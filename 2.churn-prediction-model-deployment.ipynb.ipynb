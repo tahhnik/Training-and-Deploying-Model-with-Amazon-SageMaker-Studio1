{
 "cells": [
  {
   "cell_type": "code",
   "execution_count": 1,
   "id": "1f074b4b-21ec-46c4-aac7-fb3ebd0f8b2e",
   "metadata": {
    "tags": []
   },
   "outputs": [
    {
     "name": "stdout",
     "output_type": "stream",
     "text": [
      "sagemaker.config INFO - Not applying SDK defaults from location: /etc/xdg/sagemaker/config.yaml\n",
      "sagemaker.config INFO - Not applying SDK defaults from location: /home/sagemaker-user/.config/sagemaker/config.yaml\n"
     ]
    }
   ],
   "source": [
    "import sagemaker\n",
    "session = sagemaker.Session()\n",
    "bucket = session.default_bucket()\n",
    "role = sagemaker.get_execution_role()"
   ]
  },
  {
   "cell_type": "code",
   "execution_count": 2,
   "id": "9e7b9c7e-d13d-4800-a57f-8c0ae72799c8",
   "metadata": {
    "tags": []
   },
   "outputs": [],
   "source": [
    "import pandas as pd\n",
    "import numpy as np"
   ]
  },
  {
   "cell_type": "code",
   "execution_count": 3,
   "id": "71dd0aab-dccf-45bd-a962-d6f1b5ac75d2",
   "metadata": {
    "tags": []
   },
   "outputs": [
    {
     "name": "stdout",
     "output_type": "stream",
     "text": [
      "download: s3://sagemaker-sample-files/datasets/tabular/synthetic/churn.txt to ./churn.txt\n"
     ]
    }
   ],
   "source": [
    "!aws s3 cp s3://sagemaker-sample-files/datasets/tabular/synthetic/churn.txt ./churn.txt"
   ]
  },
  {
   "cell_type": "code",
   "execution_count": 4,
   "id": "aa07f3bb-9e31-4c0d-8f79-e6d5166015be",
   "metadata": {
    "tags": []
   },
   "outputs": [
    {
     "name": "stdout",
     "output_type": "stream",
     "text": [
      "State,Account Length,Area Code,Phone,Int'l Plan,VMail Plan,VMail Message,Day Mins,Day Calls,Day Charge,Eve Mins,Eve Calls,Eve Charge,Night Mins,Night Calls,Night Charge,Intl Mins,Intl Calls,Intl Charge,CustServ Calls,Churn?\n",
      "PA,163,806,403-2562,no,yes,300,8.1622040217391,3,7.579173703343681,3.9330349941938625,4,6.508638877091394,4.065759457683862,100,5.1116239145545554,4.9281602056057885,6,5.673203040696216,3,True.\n",
      "SC,15,836,158-8416,yes,no,0,10.018992664834252,4,4.226288822198435,2.3250045529370977,0,9.97259241534841,7.141039871521733,200,6.436187619334115,3.2217476231887012,6,2.559749162329034,8,False.\n",
      "MO,131,777,896-6253,no,yes,300,4.708489916519045,3,4.768159882372771,4.53746627560553,3,4.566714501754875,5.363234681368032,100,5.142450865432122,7.139023052596313,2,6.254156588270942,4,False.\n",
      "WY,75,878,817-5729,yes,yes,700,1.2687337723540173,3,2.567641585633793,2.528747882267883,5,2.3336236298897663,3.773585578112562,450,3.8144134221879837,2.245779327608127,6,1.0806920414898902,6,False.\n",
      "WY,146,878,450-4942,yes,no,0,2.696177237539812,3,5.908915868906159,6.015337072056723,3,3.6704077483598114,3.7516733722962083,250,2.7968119977118326,6.905545285710016,4,7.134342911307563,6,True.\n",
      "VA,83,866,454-9110,no,no,0,3.6347759671675437,7,4.804891886787017,6.05194433617822,5,5.278436964531922,2.937879986797766,300,4.817958439785448,4.948816088347728,4,5.13532274057697,5,False.\n",
      "IN,140,737,331-5751,yes,no,0,3.2294202559197576,4,3.1650820605916827,2.440152809792223,8,0.2645430898924843,2.3522738978288897,300,3.8691763484913535,5.393439248879196,4,1.784764820129817,4,False.\n",
      "LA,54,766,871-3612,no,no,0,0.5679201829579954,6,1.950098388177361,4.507026828401553,0,4.473085755958401,0.6887851476456044,400,6.132136688828527,5.0127472409617235,5,0.41742093904546174,8,False.\n",
      "MO,195,777,249-5723,yes,no,0,5.811115761837079,6,4.3310650166800375,8.104126146210893,2,4.475034292704634,4.208352014531881,250,5.974575349503846,4.750152912633531,7,3.320310789878026,7,True.\n"
     ]
    }
   ],
   "source": [
    "!head churn.txt"
   ]
  },
  {
   "cell_type": "markdown",
   "id": "f00d31e3-c283-4753-8558-053e24746bab",
   "metadata": {},
   "source": [
    "# Read data from CSV"
   ]
  },
  {
   "cell_type": "code",
   "execution_count": 5,
   "id": "92f17904-41f6-4cb2-ae7a-e3e14773d08a",
   "metadata": {
    "tags": []
   },
   "outputs": [
    {
     "data": {
      "text/html": [
       "<div>\n",
       "<style scoped>\n",
       "    .dataframe tbody tr th:only-of-type {\n",
       "        vertical-align: middle;\n",
       "    }\n",
       "\n",
       "    .dataframe tbody tr th {\n",
       "        vertical-align: top;\n",
       "    }\n",
       "\n",
       "    .dataframe thead th {\n",
       "        text-align: right;\n",
       "    }\n",
       "</style>\n",
       "<table border=\"1\" class=\"dataframe\">\n",
       "  <thead>\n",
       "    <tr style=\"text-align: right;\">\n",
       "      <th></th>\n",
       "      <th>State</th>\n",
       "      <th>Account Length</th>\n",
       "      <th>Area Code</th>\n",
       "      <th>Phone</th>\n",
       "      <th>Int'l Plan</th>\n",
       "      <th>VMail Plan</th>\n",
       "      <th>VMail Message</th>\n",
       "      <th>Day Mins</th>\n",
       "      <th>Day Calls</th>\n",
       "      <th>Day Charge</th>\n",
       "      <th>...</th>\n",
       "      <th>Eve Calls</th>\n",
       "      <th>Eve Charge</th>\n",
       "      <th>Night Mins</th>\n",
       "      <th>Night Calls</th>\n",
       "      <th>Night Charge</th>\n",
       "      <th>Intl Mins</th>\n",
       "      <th>Intl Calls</th>\n",
       "      <th>Intl Charge</th>\n",
       "      <th>CustServ Calls</th>\n",
       "      <th>Churn?</th>\n",
       "    </tr>\n",
       "  </thead>\n",
       "  <tbody>\n",
       "    <tr>\n",
       "      <th>0</th>\n",
       "      <td>PA</td>\n",
       "      <td>163</td>\n",
       "      <td>806</td>\n",
       "      <td>403-2562</td>\n",
       "      <td>no</td>\n",
       "      <td>yes</td>\n",
       "      <td>300</td>\n",
       "      <td>8.162204</td>\n",
       "      <td>3</td>\n",
       "      <td>7.579174</td>\n",
       "      <td>...</td>\n",
       "      <td>4</td>\n",
       "      <td>6.508639</td>\n",
       "      <td>4.065759</td>\n",
       "      <td>100</td>\n",
       "      <td>5.111624</td>\n",
       "      <td>4.928160</td>\n",
       "      <td>6</td>\n",
       "      <td>5.673203</td>\n",
       "      <td>3</td>\n",
       "      <td>True.</td>\n",
       "    </tr>\n",
       "    <tr>\n",
       "      <th>1</th>\n",
       "      <td>SC</td>\n",
       "      <td>15</td>\n",
       "      <td>836</td>\n",
       "      <td>158-8416</td>\n",
       "      <td>yes</td>\n",
       "      <td>no</td>\n",
       "      <td>0</td>\n",
       "      <td>10.018993</td>\n",
       "      <td>4</td>\n",
       "      <td>4.226289</td>\n",
       "      <td>...</td>\n",
       "      <td>0</td>\n",
       "      <td>9.972592</td>\n",
       "      <td>7.141040</td>\n",
       "      <td>200</td>\n",
       "      <td>6.436188</td>\n",
       "      <td>3.221748</td>\n",
       "      <td>6</td>\n",
       "      <td>2.559749</td>\n",
       "      <td>8</td>\n",
       "      <td>False.</td>\n",
       "    </tr>\n",
       "    <tr>\n",
       "      <th>2</th>\n",
       "      <td>MO</td>\n",
       "      <td>131</td>\n",
       "      <td>777</td>\n",
       "      <td>896-6253</td>\n",
       "      <td>no</td>\n",
       "      <td>yes</td>\n",
       "      <td>300</td>\n",
       "      <td>4.708490</td>\n",
       "      <td>3</td>\n",
       "      <td>4.768160</td>\n",
       "      <td>...</td>\n",
       "      <td>3</td>\n",
       "      <td>4.566715</td>\n",
       "      <td>5.363235</td>\n",
       "      <td>100</td>\n",
       "      <td>5.142451</td>\n",
       "      <td>7.139023</td>\n",
       "      <td>2</td>\n",
       "      <td>6.254157</td>\n",
       "      <td>4</td>\n",
       "      <td>False.</td>\n",
       "    </tr>\n",
       "    <tr>\n",
       "      <th>3</th>\n",
       "      <td>WY</td>\n",
       "      <td>75</td>\n",
       "      <td>878</td>\n",
       "      <td>817-5729</td>\n",
       "      <td>yes</td>\n",
       "      <td>yes</td>\n",
       "      <td>700</td>\n",
       "      <td>1.268734</td>\n",
       "      <td>3</td>\n",
       "      <td>2.567642</td>\n",
       "      <td>...</td>\n",
       "      <td>5</td>\n",
       "      <td>2.333624</td>\n",
       "      <td>3.773586</td>\n",
       "      <td>450</td>\n",
       "      <td>3.814413</td>\n",
       "      <td>2.245779</td>\n",
       "      <td>6</td>\n",
       "      <td>1.080692</td>\n",
       "      <td>6</td>\n",
       "      <td>False.</td>\n",
       "    </tr>\n",
       "    <tr>\n",
       "      <th>4</th>\n",
       "      <td>WY</td>\n",
       "      <td>146</td>\n",
       "      <td>878</td>\n",
       "      <td>450-4942</td>\n",
       "      <td>yes</td>\n",
       "      <td>no</td>\n",
       "      <td>0</td>\n",
       "      <td>2.696177</td>\n",
       "      <td>3</td>\n",
       "      <td>5.908916</td>\n",
       "      <td>...</td>\n",
       "      <td>3</td>\n",
       "      <td>3.670408</td>\n",
       "      <td>3.751673</td>\n",
       "      <td>250</td>\n",
       "      <td>2.796812</td>\n",
       "      <td>6.905545</td>\n",
       "      <td>4</td>\n",
       "      <td>7.134343</td>\n",
       "      <td>6</td>\n",
       "      <td>True.</td>\n",
       "    </tr>\n",
       "  </tbody>\n",
       "</table>\n",
       "<p>5 rows × 21 columns</p>\n",
       "</div>"
      ],
      "text/plain": [
       "  State  Account Length  Area Code     Phone Int'l Plan VMail Plan  \\\n",
       "0    PA             163        806  403-2562         no        yes   \n",
       "1    SC              15        836  158-8416        yes         no   \n",
       "2    MO             131        777  896-6253         no        yes   \n",
       "3    WY              75        878  817-5729        yes        yes   \n",
       "4    WY             146        878  450-4942        yes         no   \n",
       "\n",
       "   VMail Message   Day Mins  Day Calls  Day Charge  ...  Eve Calls  \\\n",
       "0            300   8.162204          3    7.579174  ...          4   \n",
       "1              0  10.018993          4    4.226289  ...          0   \n",
       "2            300   4.708490          3    4.768160  ...          3   \n",
       "3            700   1.268734          3    2.567642  ...          5   \n",
       "4              0   2.696177          3    5.908916  ...          3   \n",
       "\n",
       "   Eve Charge  Night Mins  Night Calls  Night Charge  Intl Mins  Intl Calls  \\\n",
       "0    6.508639    4.065759          100      5.111624   4.928160           6   \n",
       "1    9.972592    7.141040          200      6.436188   3.221748           6   \n",
       "2    4.566715    5.363235          100      5.142451   7.139023           2   \n",
       "3    2.333624    3.773586          450      3.814413   2.245779           6   \n",
       "4    3.670408    3.751673          250      2.796812   6.905545           4   \n",
       "\n",
       "   Intl Charge  CustServ Calls  Churn?  \n",
       "0     5.673203               3   True.  \n",
       "1     2.559749               8  False.  \n",
       "2     6.254157               4  False.  \n",
       "3     1.080692               6  False.  \n",
       "4     7.134343               6   True.  \n",
       "\n",
       "[5 rows x 21 columns]"
      ]
     },
     "execution_count": 5,
     "metadata": {},
     "output_type": "execute_result"
    }
   ],
   "source": [
    "churn_df = pd.read_csv('./churn.txt')\n",
    "churn_df.head()"
   ]
  },
  {
   "cell_type": "markdown",
   "id": "bd2f27e9-ffb5-4729-a5a9-8049b9303bdd",
   "metadata": {},
   "source": [
    "# Dataset description"
   ]
  },
  {
   "cell_type": "markdown",
   "id": "c69b3d6c-6823-48d4-be74-5ed484ac39ae",
   "metadata": {},
   "source": [
    "**State** – The US state in which the customer resides, indicated by a two-letter abbreviation; for example, OH or NJ\n",
    "\n",
    "**Account Length** – The number of days that this account has been active\n",
    "\n",
    "**Area Code** – The three-digit area code of the customer’s phone number\n",
    "\n",
    "**Phone** – The remaining seven-digit phone number\n",
    "\n",
    "**Int’l Plan** – Whether the customer has an international calling plan (yes/no)\n",
    "\n",
    "**VMail Plan** – Whether the customer has a voice mail feature (yes/no)\n",
    "\n",
    "**VMail Message** – The average number of voice mail messages per month\n",
    "\n",
    "**Day Mins** – The total number of calling minutes used during the day\n",
    "\n",
    "**Day Calls** – The total number of calls placed during the day\n",
    "\n",
    "**Day Charge** – The billed cost of daytime calls\n",
    "\n",
    "**Eve Mins**, **Eve Calls**, **Eve Charge**– The billed cost for evening calls\n",
    "\n",
    "**Night Mins**, **Night Calls**, **Night Charge** – The billed cost for nighttime calls\n",
    "\n",
    "**Intl Mins**, **Intl Calls**, **Intl Charge** – The billed cost for international calls\n",
    "\n",
    "**CustServ Calls** – The number of calls placed to customer service\n",
    "\n",
    "**Churn?** – Whether the customer left the service (true/false)"
   ]
  },
  {
   "cell_type": "markdown",
   "id": "8deb46b2-b093-4bbc-a02f-bc20b6ee2b89",
   "metadata": {},
   "source": [
    "# Data preprocessing"
   ]
  },
  {
   "cell_type": "markdown",
   "id": "19b7141c-8fba-444b-8610-5b120c9062a0",
   "metadata": {},
   "source": [
    "Remove `Phone` column"
   ]
  },
  {
   "cell_type": "code",
   "execution_count": 6,
   "id": "044374ac-5ea8-4033-8983-817f9dc07116",
   "metadata": {
    "tags": []
   },
   "outputs": [],
   "source": [
    "churn_df = churn_df.drop('Phone', axis=1)"
   ]
  },
  {
   "cell_type": "markdown",
   "id": "dfd70117-5fbc-4ca3-8aac-eaef8058d235",
   "metadata": {},
   "source": [
    "Convert `Area Code` from `int` to string"
   ]
  },
  {
   "cell_type": "code",
   "execution_count": 7,
   "id": "4765b57d-ebd0-48fc-89ff-5db36d4b00f1",
   "metadata": {
    "tags": []
   },
   "outputs": [],
   "source": [
    "churn_df['Area Code'] = churn_df['Area Code'].astype(object)"
   ]
  },
  {
   "cell_type": "markdown",
   "id": "8c03c72b-2c80-478c-9786-312020422fe9",
   "metadata": {},
   "source": [
    "Convert result variable from `True.`/`False.` to `1`/`0`"
   ]
  },
  {
   "cell_type": "code",
   "execution_count": 8,
   "id": "4d5cdd15-8789-4c06-b33c-4b4d1e00b98f",
   "metadata": {
    "tags": []
   },
   "outputs": [],
   "source": [
    "churn_df['Churn?'] = np.where(churn_df['Churn?'] == 'False.', 0, 1)"
   ]
  },
  {
   "cell_type": "markdown",
   "id": "c90d82ec-05ca-404d-95cf-53ef59248b11",
   "metadata": {},
   "source": [
    "Move `Churn?` column to the beginning of the table"
   ]
  },
  {
   "cell_type": "code",
   "execution_count": 9,
   "id": "97e14834-56f7-45d1-a864-3cbca88b6ba1",
   "metadata": {
    "tags": []
   },
   "outputs": [],
   "source": [
    "churn_df = pd.concat(\n",
    "    [churn_df['Churn?'], churn_df.drop(['Churn?'], axis=1)], axis=1\n",
    ")"
   ]
  },
  {
   "cell_type": "code",
   "execution_count": 10,
   "id": "55f99ff5-89e3-4446-957c-51fec65501ea",
   "metadata": {
    "tags": []
   },
   "outputs": [
    {
     "data": {
      "text/html": [
       "<div>\n",
       "<style scoped>\n",
       "    .dataframe tbody tr th:only-of-type {\n",
       "        vertical-align: middle;\n",
       "    }\n",
       "\n",
       "    .dataframe tbody tr th {\n",
       "        vertical-align: top;\n",
       "    }\n",
       "\n",
       "    .dataframe thead th {\n",
       "        text-align: right;\n",
       "    }\n",
       "</style>\n",
       "<table border=\"1\" class=\"dataframe\">\n",
       "  <thead>\n",
       "    <tr style=\"text-align: right;\">\n",
       "      <th></th>\n",
       "      <th>Churn?</th>\n",
       "      <th>State</th>\n",
       "      <th>Account Length</th>\n",
       "      <th>Area Code</th>\n",
       "      <th>Int'l Plan</th>\n",
       "      <th>VMail Plan</th>\n",
       "      <th>VMail Message</th>\n",
       "      <th>Day Mins</th>\n",
       "      <th>Day Calls</th>\n",
       "      <th>Day Charge</th>\n",
       "      <th>Eve Mins</th>\n",
       "      <th>Eve Calls</th>\n",
       "      <th>Eve Charge</th>\n",
       "      <th>Night Mins</th>\n",
       "      <th>Night Calls</th>\n",
       "      <th>Night Charge</th>\n",
       "      <th>Intl Mins</th>\n",
       "      <th>Intl Calls</th>\n",
       "      <th>Intl Charge</th>\n",
       "      <th>CustServ Calls</th>\n",
       "    </tr>\n",
       "  </thead>\n",
       "  <tbody>\n",
       "    <tr>\n",
       "      <th>0</th>\n",
       "      <td>1</td>\n",
       "      <td>PA</td>\n",
       "      <td>163</td>\n",
       "      <td>806</td>\n",
       "      <td>no</td>\n",
       "      <td>yes</td>\n",
       "      <td>300</td>\n",
       "      <td>8.162204</td>\n",
       "      <td>3</td>\n",
       "      <td>7.579174</td>\n",
       "      <td>3.933035</td>\n",
       "      <td>4</td>\n",
       "      <td>6.508639</td>\n",
       "      <td>4.065759</td>\n",
       "      <td>100</td>\n",
       "      <td>5.111624</td>\n",
       "      <td>4.928160</td>\n",
       "      <td>6</td>\n",
       "      <td>5.673203</td>\n",
       "      <td>3</td>\n",
       "    </tr>\n",
       "    <tr>\n",
       "      <th>1</th>\n",
       "      <td>0</td>\n",
       "      <td>SC</td>\n",
       "      <td>15</td>\n",
       "      <td>836</td>\n",
       "      <td>yes</td>\n",
       "      <td>no</td>\n",
       "      <td>0</td>\n",
       "      <td>10.018993</td>\n",
       "      <td>4</td>\n",
       "      <td>4.226289</td>\n",
       "      <td>2.325005</td>\n",
       "      <td>0</td>\n",
       "      <td>9.972592</td>\n",
       "      <td>7.141040</td>\n",
       "      <td>200</td>\n",
       "      <td>6.436188</td>\n",
       "      <td>3.221748</td>\n",
       "      <td>6</td>\n",
       "      <td>2.559749</td>\n",
       "      <td>8</td>\n",
       "    </tr>\n",
       "    <tr>\n",
       "      <th>2</th>\n",
       "      <td>0</td>\n",
       "      <td>MO</td>\n",
       "      <td>131</td>\n",
       "      <td>777</td>\n",
       "      <td>no</td>\n",
       "      <td>yes</td>\n",
       "      <td>300</td>\n",
       "      <td>4.708490</td>\n",
       "      <td>3</td>\n",
       "      <td>4.768160</td>\n",
       "      <td>4.537466</td>\n",
       "      <td>3</td>\n",
       "      <td>4.566715</td>\n",
       "      <td>5.363235</td>\n",
       "      <td>100</td>\n",
       "      <td>5.142451</td>\n",
       "      <td>7.139023</td>\n",
       "      <td>2</td>\n",
       "      <td>6.254157</td>\n",
       "      <td>4</td>\n",
       "    </tr>\n",
       "    <tr>\n",
       "      <th>3</th>\n",
       "      <td>0</td>\n",
       "      <td>WY</td>\n",
       "      <td>75</td>\n",
       "      <td>878</td>\n",
       "      <td>yes</td>\n",
       "      <td>yes</td>\n",
       "      <td>700</td>\n",
       "      <td>1.268734</td>\n",
       "      <td>3</td>\n",
       "      <td>2.567642</td>\n",
       "      <td>2.528748</td>\n",
       "      <td>5</td>\n",
       "      <td>2.333624</td>\n",
       "      <td>3.773586</td>\n",
       "      <td>450</td>\n",
       "      <td>3.814413</td>\n",
       "      <td>2.245779</td>\n",
       "      <td>6</td>\n",
       "      <td>1.080692</td>\n",
       "      <td>6</td>\n",
       "    </tr>\n",
       "    <tr>\n",
       "      <th>4</th>\n",
       "      <td>1</td>\n",
       "      <td>WY</td>\n",
       "      <td>146</td>\n",
       "      <td>878</td>\n",
       "      <td>yes</td>\n",
       "      <td>no</td>\n",
       "      <td>0</td>\n",
       "      <td>2.696177</td>\n",
       "      <td>3</td>\n",
       "      <td>5.908916</td>\n",
       "      <td>6.015337</td>\n",
       "      <td>3</td>\n",
       "      <td>3.670408</td>\n",
       "      <td>3.751673</td>\n",
       "      <td>250</td>\n",
       "      <td>2.796812</td>\n",
       "      <td>6.905545</td>\n",
       "      <td>4</td>\n",
       "      <td>7.134343</td>\n",
       "      <td>6</td>\n",
       "    </tr>\n",
       "  </tbody>\n",
       "</table>\n",
       "</div>"
      ],
      "text/plain": [
       "   Churn? State  Account Length Area Code Int'l Plan VMail Plan  \\\n",
       "0       1    PA             163       806         no        yes   \n",
       "1       0    SC              15       836        yes         no   \n",
       "2       0    MO             131       777         no        yes   \n",
       "3       0    WY              75       878        yes        yes   \n",
       "4       1    WY             146       878        yes         no   \n",
       "\n",
       "   VMail Message   Day Mins  Day Calls  Day Charge  Eve Mins  Eve Calls  \\\n",
       "0            300   8.162204          3    7.579174  3.933035          4   \n",
       "1              0  10.018993          4    4.226289  2.325005          0   \n",
       "2            300   4.708490          3    4.768160  4.537466          3   \n",
       "3            700   1.268734          3    2.567642  2.528748          5   \n",
       "4              0   2.696177          3    5.908916  6.015337          3   \n",
       "\n",
       "   Eve Charge  Night Mins  Night Calls  Night Charge  Intl Mins  Intl Calls  \\\n",
       "0    6.508639    4.065759          100      5.111624   4.928160           6   \n",
       "1    9.972592    7.141040          200      6.436188   3.221748           6   \n",
       "2    4.566715    5.363235          100      5.142451   7.139023           2   \n",
       "3    2.333624    3.773586          450      3.814413   2.245779           6   \n",
       "4    3.670408    3.751673          250      2.796812   6.905545           4   \n",
       "\n",
       "   Intl Charge  CustServ Calls  \n",
       "0     5.673203               3  \n",
       "1     2.559749               8  \n",
       "2     6.254157               4  \n",
       "3     1.080692               6  \n",
       "4     7.134343               6  "
      ]
     },
     "execution_count": 10,
     "metadata": {},
     "output_type": "execute_result"
    }
   ],
   "source": [
    "churn_df.head()"
   ]
  },
  {
   "cell_type": "markdown",
   "id": "58ffb815-af10-44ca-b5ec-801f6fb3ccc0",
   "metadata": {},
   "source": [
    "Use one hot encoding for non-numeric fields."
   ]
  },
  {
   "cell_type": "code",
   "execution_count": 11,
   "id": "c585944a-7ae4-468d-be90-d1475265a9df",
   "metadata": {
    "tags": []
   },
   "outputs": [],
   "source": [
    "churn_df = pd.get_dummies(churn_df)"
   ]
  },
  {
   "cell_type": "code",
   "execution_count": 12,
   "id": "8608d273-e74b-49d0-997f-0a59f115202b",
   "metadata": {
    "tags": []
   },
   "outputs": [
    {
     "data": {
      "text/html": [
       "<div>\n",
       "<style scoped>\n",
       "    .dataframe tbody tr th:only-of-type {\n",
       "        vertical-align: middle;\n",
       "    }\n",
       "\n",
       "    .dataframe tbody tr th {\n",
       "        vertical-align: top;\n",
       "    }\n",
       "\n",
       "    .dataframe thead th {\n",
       "        text-align: right;\n",
       "    }\n",
       "</style>\n",
       "<table border=\"1\" class=\"dataframe\">\n",
       "  <thead>\n",
       "    <tr style=\"text-align: right;\">\n",
       "      <th></th>\n",
       "      <th>Churn?</th>\n",
       "      <th>Account Length</th>\n",
       "      <th>VMail Message</th>\n",
       "      <th>Day Mins</th>\n",
       "      <th>Day Calls</th>\n",
       "      <th>Day Charge</th>\n",
       "      <th>Eve Mins</th>\n",
       "      <th>Eve Calls</th>\n",
       "      <th>Eve Charge</th>\n",
       "      <th>Night Mins</th>\n",
       "      <th>...</th>\n",
       "      <th>Area Code_858</th>\n",
       "      <th>Area Code_866</th>\n",
       "      <th>Area Code_868</th>\n",
       "      <th>Area Code_876</th>\n",
       "      <th>Area Code_877</th>\n",
       "      <th>Area Code_878</th>\n",
       "      <th>Int'l Plan_no</th>\n",
       "      <th>Int'l Plan_yes</th>\n",
       "      <th>VMail Plan_no</th>\n",
       "      <th>VMail Plan_yes</th>\n",
       "    </tr>\n",
       "  </thead>\n",
       "  <tbody>\n",
       "    <tr>\n",
       "      <th>0</th>\n",
       "      <td>1</td>\n",
       "      <td>163</td>\n",
       "      <td>300</td>\n",
       "      <td>8.162204</td>\n",
       "      <td>3</td>\n",
       "      <td>7.579174</td>\n",
       "      <td>3.933035</td>\n",
       "      <td>4</td>\n",
       "      <td>6.508639</td>\n",
       "      <td>4.065759</td>\n",
       "      <td>...</td>\n",
       "      <td>False</td>\n",
       "      <td>False</td>\n",
       "      <td>False</td>\n",
       "      <td>False</td>\n",
       "      <td>False</td>\n",
       "      <td>False</td>\n",
       "      <td>True</td>\n",
       "      <td>False</td>\n",
       "      <td>False</td>\n",
       "      <td>True</td>\n",
       "    </tr>\n",
       "    <tr>\n",
       "      <th>1</th>\n",
       "      <td>0</td>\n",
       "      <td>15</td>\n",
       "      <td>0</td>\n",
       "      <td>10.018993</td>\n",
       "      <td>4</td>\n",
       "      <td>4.226289</td>\n",
       "      <td>2.325005</td>\n",
       "      <td>0</td>\n",
       "      <td>9.972592</td>\n",
       "      <td>7.141040</td>\n",
       "      <td>...</td>\n",
       "      <td>False</td>\n",
       "      <td>False</td>\n",
       "      <td>False</td>\n",
       "      <td>False</td>\n",
       "      <td>False</td>\n",
       "      <td>False</td>\n",
       "      <td>False</td>\n",
       "      <td>True</td>\n",
       "      <td>True</td>\n",
       "      <td>False</td>\n",
       "    </tr>\n",
       "    <tr>\n",
       "      <th>2</th>\n",
       "      <td>0</td>\n",
       "      <td>131</td>\n",
       "      <td>300</td>\n",
       "      <td>4.708490</td>\n",
       "      <td>3</td>\n",
       "      <td>4.768160</td>\n",
       "      <td>4.537466</td>\n",
       "      <td>3</td>\n",
       "      <td>4.566715</td>\n",
       "      <td>5.363235</td>\n",
       "      <td>...</td>\n",
       "      <td>False</td>\n",
       "      <td>False</td>\n",
       "      <td>False</td>\n",
       "      <td>False</td>\n",
       "      <td>False</td>\n",
       "      <td>False</td>\n",
       "      <td>True</td>\n",
       "      <td>False</td>\n",
       "      <td>False</td>\n",
       "      <td>True</td>\n",
       "    </tr>\n",
       "    <tr>\n",
       "      <th>3</th>\n",
       "      <td>0</td>\n",
       "      <td>75</td>\n",
       "      <td>700</td>\n",
       "      <td>1.268734</td>\n",
       "      <td>3</td>\n",
       "      <td>2.567642</td>\n",
       "      <td>2.528748</td>\n",
       "      <td>5</td>\n",
       "      <td>2.333624</td>\n",
       "      <td>3.773586</td>\n",
       "      <td>...</td>\n",
       "      <td>False</td>\n",
       "      <td>False</td>\n",
       "      <td>False</td>\n",
       "      <td>False</td>\n",
       "      <td>False</td>\n",
       "      <td>True</td>\n",
       "      <td>False</td>\n",
       "      <td>True</td>\n",
       "      <td>False</td>\n",
       "      <td>True</td>\n",
       "    </tr>\n",
       "    <tr>\n",
       "      <th>4</th>\n",
       "      <td>1</td>\n",
       "      <td>146</td>\n",
       "      <td>0</td>\n",
       "      <td>2.696177</td>\n",
       "      <td>3</td>\n",
       "      <td>5.908916</td>\n",
       "      <td>6.015337</td>\n",
       "      <td>3</td>\n",
       "      <td>3.670408</td>\n",
       "      <td>3.751673</td>\n",
       "      <td>...</td>\n",
       "      <td>False</td>\n",
       "      <td>False</td>\n",
       "      <td>False</td>\n",
       "      <td>False</td>\n",
       "      <td>False</td>\n",
       "      <td>True</td>\n",
       "      <td>False</td>\n",
       "      <td>True</td>\n",
       "      <td>True</td>\n",
       "      <td>False</td>\n",
       "    </tr>\n",
       "  </tbody>\n",
       "</table>\n",
       "<p>5 rows × 104 columns</p>\n",
       "</div>"
      ],
      "text/plain": [
       "   Churn?  Account Length  VMail Message   Day Mins  Day Calls  Day Charge  \\\n",
       "0       1             163            300   8.162204          3    7.579174   \n",
       "1       0              15              0  10.018993          4    4.226289   \n",
       "2       0             131            300   4.708490          3    4.768160   \n",
       "3       0              75            700   1.268734          3    2.567642   \n",
       "4       1             146              0   2.696177          3    5.908916   \n",
       "\n",
       "   Eve Mins  Eve Calls  Eve Charge  Night Mins  ...  Area Code_858  \\\n",
       "0  3.933035          4    6.508639    4.065759  ...          False   \n",
       "1  2.325005          0    9.972592    7.141040  ...          False   \n",
       "2  4.537466          3    4.566715    5.363235  ...          False   \n",
       "3  2.528748          5    2.333624    3.773586  ...          False   \n",
       "4  6.015337          3    3.670408    3.751673  ...          False   \n",
       "\n",
       "   Area Code_866  Area Code_868  Area Code_876  Area Code_877  Area Code_878  \\\n",
       "0          False          False          False          False          False   \n",
       "1          False          False          False          False          False   \n",
       "2          False          False          False          False          False   \n",
       "3          False          False          False          False           True   \n",
       "4          False          False          False          False           True   \n",
       "\n",
       "   Int'l Plan_no  Int'l Plan_yes  VMail Plan_no  VMail Plan_yes  \n",
       "0           True           False          False            True  \n",
       "1          False            True           True           False  \n",
       "2           True           False          False            True  \n",
       "3          False            True          False            True  \n",
       "4          False            True           True           False  \n",
       "\n",
       "[5 rows x 104 columns]"
      ]
     },
     "execution_count": 12,
     "metadata": {},
     "output_type": "execute_result"
    }
   ],
   "source": [
    "churn_df.head()"
   ]
  },
  {
   "cell_type": "markdown",
   "id": "e835b337-b86e-487a-8365-26ec7fb40525",
   "metadata": {},
   "source": [
    "# Data splitting"
   ]
  },
  {
   "cell_type": "markdown",
   "id": "e732a743-e3c1-4842-87b1-0d33361c0126",
   "metadata": {},
   "source": [
    "Randomly shuffle the dataset"
   ]
  },
  {
   "cell_type": "code",
   "execution_count": 13,
   "id": "1ba1c499-0a27-48fc-9a08-6f878e6b92ba",
   "metadata": {
    "tags": []
   },
   "outputs": [],
   "source": [
    "churn_df_shuffled = churn_df.sample(frac=1, random_state=42)"
   ]
  },
  {
   "cell_type": "markdown",
   "id": "cb30dc64-4d29-4250-8780-cb9f21f8b7f1",
   "metadata": {},
   "source": [
    "Split datset into train/validation/test datasets"
   ]
  },
  {
   "cell_type": "code",
   "execution_count": 14,
   "id": "ea95b30c-c057-4fe7-8912-c915912bc27d",
   "metadata": {
    "tags": []
   },
   "outputs": [
    {
     "name": "stderr",
     "output_type": "stream",
     "text": [
      "/opt/conda/lib/python3.10/site-packages/numpy/core/fromnumeric.py:59: FutureWarning: 'DataFrame.swapaxes' is deprecated and will be removed in a future version. Please use 'DataFrame.transpose' instead.\n",
      "  return bound(*args, **kwds)\n"
     ]
    }
   ],
   "source": [
    "churn_df_len = len(churn_df_shuffled)\n",
    "churn_df_train, churn_df_validate, churn_df_test = np.split(\n",
    "    churn_df_shuffled, \n",
    "    [\n",
    "        int(0.6 * churn_df_len),\n",
    "        int(0.8 * churn_df_len)\n",
    "    ]\n",
    ")"
   ]
  },
  {
   "cell_type": "markdown",
   "id": "fece9bd7-79a9-4812-a7dd-13b136d996a3",
   "metadata": {},
   "source": [
    "Write datsets as CSV files. \n",
    "\n",
    "We want to write a file without row names (`index=False`) and without a CSV header (`header=False`)"
   ]
  },
  {
   "cell_type": "code",
   "execution_count": 15,
   "id": "df03420e-0ecd-4163-9e62-995f36453fcb",
   "metadata": {
    "tags": []
   },
   "outputs": [],
   "source": [
    "churn_df_train.to_csv('churn_train.csv', header=False, index=False)\n",
    "churn_df_validate.to_csv('churn_validate.csv', header=False, index=False)\n",
    "churn_df_validate.to_csv('churn_test.csv', header=False, index=False)"
   ]
  },
  {
   "cell_type": "markdown",
   "id": "12980b27-e426-4617-906d-bbf316751730",
   "metadata": {},
   "source": [
    "Copy result files to S3"
   ]
  },
  {
   "cell_type": "code",
   "execution_count": 16,
   "id": "0b130f94-e5e8-4555-ba46-8271475a9285",
   "metadata": {},
   "outputs": [
    {
     "name": "stdout",
     "output_type": "stream",
     "text": [
      "upload: ./churn_train.csv to s3://sagemaker-ap-southeast-1-545477210478/churn_train.csv\n",
      "upload: ./churn_validate.csv to s3://sagemaker-ap-southeast-1-545477210478/churn_validate.csv\n"
     ]
    }
   ],
   "source": [
    "!aws s3 cp churn_train.csv s3://{bucket}/churn_train.csv\n",
    "!aws s3 cp churn_validate.csv s3://{bucket}/churn_validate.csv"
   ]
  },
  {
   "cell_type": "markdown",
   "id": "c6e3f980-bffd-4163-b67c-ea370bd59c28",
   "metadata": {},
   "source": [
    "Create inputs for the estimator"
   ]
  },
  {
   "cell_type": "code",
   "execution_count": 17,
   "id": "32f89998-d39b-454b-a791-66405652cff0",
   "metadata": {
    "tags": []
   },
   "outputs": [],
   "source": [
    "from sagemaker.inputs import TrainingInput\n",
    "\n",
    "s3_input_train = TrainingInput(\n",
    "    s3_data=f's3://{bucket}/churn_train.csv', content_type='csv'\n",
    ")\n",
    "s3_input_validate = TrainingInput(\n",
    "    s3_data=f's3://{bucket}/churn_validate.csv', content_type='csv'\n",
    ")"
   ]
  },
  {
   "cell_type": "markdown",
   "id": "cd157cf0-9e33-4ca1-a8b5-7b374b5dfeda",
   "metadata": {},
   "source": [
    "Load a container XGBoost algorithm"
   ]
  },
  {
   "cell_type": "code",
   "execution_count": 18,
   "id": "8a26f6b1-4c75-4d4c-a3ae-8990a0ef918e",
   "metadata": {
    "tags": []
   },
   "outputs": [],
   "source": [
    "xgb_image = sagemaker.image_uris.retrieve('xgboost', session.boto_region_name, '1.5-1')"
   ]
  },
  {
   "cell_type": "markdown",
   "id": "dfbbd466-00fe-40ac-8c36-a2ce6af8a458",
   "metadata": {},
   "source": [
    "Train a model"
   ]
  },
  {
   "cell_type": "code",
   "execution_count": 19,
   "id": "f5e1fc8f-8418-40eb-bc2c-90d6e636ba95",
   "metadata": {
    "tags": []
   },
   "outputs": [
    {
     "name": "stderr",
     "output_type": "stream",
     "text": [
      "INFO:sagemaker:Creating training-job with name: sagemaker-xgboost-2024-07-15-16-45-34-111\n"
     ]
    },
    {
     "name": "stdout",
     "output_type": "stream",
     "text": [
      "2024-07-15 16:45:34 Starting - Starting the training job...\n",
      "2024-07-15 16:45:48 Starting - Preparing the instances for training...\n",
      "2024-07-15 16:46:11 Downloading - Downloading input data...\n",
      "2024-07-15 16:46:51 Downloading - Downloading the training image......\n",
      "2024-07-15 16:47:58 Training - Training image download completed. Training in progress.\n",
      "2024-07-15 16:47:58 Uploading - Uploading generated training model\u001b[34m/miniconda3/lib/python3.8/site-packages/xgboost/compat.py:36: FutureWarning: pandas.Int64Index is deprecated and will be removed from pandas in a future version. Use pandas.Index with the appropriate dtype instead.\n",
      "  from pandas import MultiIndex, Int64Index\u001b[0m\n",
      "\u001b[34m[2024-07-15 16:47:53.060 ip-10-0-95-42.ap-southeast-1.compute.internal:8 INFO utils.py:28] RULE_JOB_STOP_SIGNAL_FILENAME: None\u001b[0m\n",
      "\u001b[34m[2024-07-15 16:47:53.085 ip-10-0-95-42.ap-southeast-1.compute.internal:8 INFO profiler_config_parser.py:111] User has disabled profiler.\u001b[0m\n",
      "\u001b[34m[2024-07-15:16:47:53:INFO] Imported framework sagemaker_xgboost_container.training\u001b[0m\n",
      "\u001b[34m[2024-07-15:16:47:53:INFO] Failed to parse hyperparameter objective value binary:logistic to Json.\u001b[0m\n",
      "\u001b[34mReturning the value itself\u001b[0m\n",
      "\u001b[34m[2024-07-15:16:47:53:INFO] No GPUs detected (normal if no gpus installed)\u001b[0m\n",
      "\u001b[34m[2024-07-15:16:47:53:INFO] Running XGBoost Sagemaker in algorithm mode\u001b[0m\n",
      "\u001b[34m[2024-07-15:16:47:53:INFO] Determined 0 GPU(s) available on the instance.\u001b[0m\n",
      "\u001b[34m[2024-07-15:16:47:53:INFO] Determined delimiter of CSV input is ','\u001b[0m\n",
      "\u001b[34m[2024-07-15:16:47:53:INFO] Determined delimiter of CSV input is ','\u001b[0m\n",
      "\u001b[34m[2024-07-15:16:47:53:INFO] files path: /opt/ml/input/data/train\u001b[0m\n",
      "\u001b[34m[2024-07-15:16:47:53:INFO] Determined delimiter of CSV input is ','\u001b[0m\n",
      "\u001b[34m[2024-07-15:16:47:53:INFO] files path: /opt/ml/input/data/validation\u001b[0m\n",
      "\u001b[34m[2024-07-15:16:47:53:INFO] Determined delimiter of CSV input is ','\u001b[0m\n",
      "\u001b[34m[2024-07-15:16:47:53:INFO] Single node training.\u001b[0m\n",
      "\u001b[34m[2024-07-15:16:47:53:INFO] Train matrix has 3000 rows and 103 columns\u001b[0m\n",
      "\u001b[34m[2024-07-15:16:47:53:INFO] Validation matrix has 1000 rows\u001b[0m\n",
      "\u001b[34m[2024-07-15 16:47:53.525 ip-10-0-95-42.ap-southeast-1.compute.internal:8 INFO json_config.py:92] Creating hook from json_config at /opt/ml/input/config/debughookconfig.json.\u001b[0m\n",
      "\u001b[34m[2024-07-15 16:47:53.526 ip-10-0-95-42.ap-southeast-1.compute.internal:8 INFO hook.py:206] tensorboard_dir has not been set for the hook. SMDebug will not be exporting tensorboard summaries.\u001b[0m\n",
      "\u001b[34m[2024-07-15 16:47:53.527 ip-10-0-95-42.ap-southeast-1.compute.internal:8 INFO hook.py:259] Saving to /opt/ml/output/tensors\u001b[0m\n",
      "\u001b[34m[2024-07-15 16:47:53.527 ip-10-0-95-42.ap-southeast-1.compute.internal:8 INFO state_store.py:77] The checkpoint config file /opt/ml/input/config/checkpointconfig.json does not exist.\u001b[0m\n",
      "\u001b[34m[2024-07-15:16:47:53:INFO] Debug hook created from config\u001b[0m\n",
      "\u001b[34m[16:47:53] WARNING: ../src/learner.cc:1115: Starting in XGBoost 1.3.0, the default evaluation metric used with the objective 'binary:logistic' was changed from 'error' to 'logloss'. Explicitly set eval_metric if you'd like to restore the old behavior.\u001b[0m\n",
      "\u001b[34m[2024-07-15 16:47:53.576 ip-10-0-95-42.ap-southeast-1.compute.internal:8 INFO hook.py:427] Monitoring the collections: metrics\u001b[0m\n",
      "\u001b[34m[2024-07-15 16:47:53.578 ip-10-0-95-42.ap-southeast-1.compute.internal:8 INFO hook.py:491] Hook is writing from the hook with pid: 8\u001b[0m\n",
      "\u001b[34m[0]#011train-logloss:0.52238#011validation-logloss:0.53561\u001b[0m\n",
      "\u001b[34m[1]#011train-logloss:0.41916#011validation-logloss:0.44519\u001b[0m\n",
      "\u001b[34m[2]#011train-logloss:0.35228#011validation-logloss:0.39018\u001b[0m\n",
      "\u001b[34m[3]#011train-logloss:0.29887#011validation-logloss:0.34051\u001b[0m\n",
      "\u001b[34m[4]#011train-logloss:0.26019#011validation-logloss:0.30556\u001b[0m\n",
      "\u001b[34m[5]#011train-logloss:0.23203#011validation-logloss:0.28555\u001b[0m\n",
      "\u001b[34m[6]#011train-logloss:0.20778#011validation-logloss:0.26339\u001b[0m\n",
      "\u001b[34m[7]#011train-logloss:0.19058#011validation-logloss:0.25071\u001b[0m\n",
      "\u001b[34m[8]#011train-logloss:0.17270#011validation-logloss:0.23478\u001b[0m\n",
      "\u001b[34m[9]#011train-logloss:0.16121#011validation-logloss:0.22491\u001b[0m\n",
      "\u001b[34m[10]#011train-logloss:0.14893#011validation-logloss:0.21661\u001b[0m\n",
      "\u001b[34m[11]#011train-logloss:0.14072#011validation-logloss:0.21062\u001b[0m\n",
      "\u001b[34m[12]#011train-logloss:0.13420#011validation-logloss:0.20519\u001b[0m\n",
      "\u001b[34m[13]#011train-logloss:0.12645#011validation-logloss:0.20103\u001b[0m\n",
      "\u001b[34m[14]#011train-logloss:0.11987#011validation-logloss:0.19624\u001b[0m\n",
      "\u001b[34m[15]#011train-logloss:0.11353#011validation-logloss:0.19257\u001b[0m\n",
      "\u001b[34m[16]#011train-logloss:0.10854#011validation-logloss:0.19035\u001b[0m\n",
      "\u001b[34m[17]#011train-logloss:0.10704#011validation-logloss:0.18981\u001b[0m\n",
      "\u001b[34m[18]#011train-logloss:0.10363#011validation-logloss:0.18891\u001b[0m\n",
      "\u001b[34m[19]#011train-logloss:0.10119#011validation-logloss:0.18776\u001b[0m\n",
      "\u001b[34m[20]#011train-logloss:0.09633#011validation-logloss:0.18475\u001b[0m\n",
      "\u001b[34m[21]#011train-logloss:0.09510#011validation-logloss:0.18499\u001b[0m\n",
      "\u001b[34m[22]#011train-logloss:0.08990#011validation-logloss:0.18029\u001b[0m\n",
      "\u001b[34m[23]#011train-logloss:0.08700#011validation-logloss:0.17991\u001b[0m\n",
      "\u001b[34m[24]#011train-logloss:0.08614#011validation-logloss:0.17902\u001b[0m\n",
      "\u001b[34m[25]#011train-logloss:0.08351#011validation-logloss:0.17773\u001b[0m\n",
      "\u001b[34m[26]#011train-logloss:0.08190#011validation-logloss:0.17705\u001b[0m\n",
      "\u001b[34m[27]#011train-logloss:0.07834#011validation-logloss:0.17484\u001b[0m\n",
      "\u001b[34m[28]#011train-logloss:0.07513#011validation-logloss:0.17203\u001b[0m\n",
      "\u001b[34m[29]#011train-logloss:0.06996#011validation-logloss:0.17075\u001b[0m\n",
      "\u001b[34m[30]#011train-logloss:0.06742#011validation-logloss:0.17221\u001b[0m\n",
      "\u001b[34m[31]#011train-logloss:0.06391#011validation-logloss:0.17078\u001b[0m\n",
      "\u001b[34m[32]#011train-logloss:0.06252#011validation-logloss:0.17077\u001b[0m\n",
      "\u001b[34m[33]#011train-logloss:0.05985#011validation-logloss:0.16979\u001b[0m\n",
      "\u001b[34m[34]#011train-logloss:0.05785#011validation-logloss:0.16766\u001b[0m\n",
      "\u001b[34m[35]#011train-logloss:0.05469#011validation-logloss:0.16836\u001b[0m\n",
      "\u001b[34m[36]#011train-logloss:0.05363#011validation-logloss:0.16715\u001b[0m\n",
      "\u001b[34m[37]#011train-logloss:0.05290#011validation-logloss:0.16690\u001b[0m\n",
      "\u001b[34m[38]#011train-logloss:0.05071#011validation-logloss:0.16792\u001b[0m\n",
      "\u001b[34m[39]#011train-logloss:0.04834#011validation-logloss:0.16724\u001b[0m\n",
      "\u001b[34m[40]#011train-logloss:0.04518#011validation-logloss:0.16590\u001b[0m\n",
      "\u001b[34m[41]#011train-logloss:0.04349#011validation-logloss:0.16478\u001b[0m\n",
      "\u001b[34m[42]#011train-logloss:0.04298#011validation-logloss:0.16431\u001b[0m\n",
      "\u001b[34m[43]#011train-logloss:0.04131#011validation-logloss:0.16446\u001b[0m\n",
      "\u001b[34m[44]#011train-logloss:0.04097#011validation-logloss:0.16392\u001b[0m\n",
      "\u001b[34m[45]#011train-logloss:0.04007#011validation-logloss:0.16411\u001b[0m\n",
      "\u001b[34m[46]#011train-logloss:0.03909#011validation-logloss:0.16446\u001b[0m\n",
      "\u001b[34m[47]#011train-logloss:0.03700#011validation-logloss:0.16426\u001b[0m\n",
      "\u001b[34m[48]#011train-logloss:0.03545#011validation-logloss:0.16466\u001b[0m\n",
      "\u001b[34m[49]#011train-logloss:0.03451#011validation-logloss:0.16653\u001b[0m\n",
      "\u001b[34m[50]#011train-logloss:0.03274#011validation-logloss:0.16451\u001b[0m\n",
      "\u001b[34m[51]#011train-logloss:0.03159#011validation-logloss:0.16340\u001b[0m\n",
      "\u001b[34m[52]#011train-logloss:0.03060#011validation-logloss:0.16358\u001b[0m\n",
      "\u001b[34m[53]#011train-logloss:0.03017#011validation-logloss:0.16317\u001b[0m\n",
      "\u001b[34m[54]#011train-logloss:0.02974#011validation-logloss:0.16356\u001b[0m\n",
      "\u001b[34m[55]#011train-logloss:0.02905#011validation-logloss:0.16414\u001b[0m\n",
      "\u001b[34m[56]#011train-logloss:0.02818#011validation-logloss:0.16581\u001b[0m\n",
      "\u001b[34m[57]#011train-logloss:0.02751#011validation-logloss:0.16444\u001b[0m\n",
      "\u001b[34m[58]#011train-logloss:0.02679#011validation-logloss:0.16457\u001b[0m\n",
      "\u001b[34m[59]#011train-logloss:0.02552#011validation-logloss:0.16415\u001b[0m\n",
      "\u001b[34m[60]#011train-logloss:0.02516#011validation-logloss:0.16468\u001b[0m\n",
      "\u001b[34m[61]#011train-logloss:0.02501#011validation-logloss:0.16473\u001b[0m\n",
      "\u001b[34m[62]#011train-logloss:0.02470#011validation-logloss:0.16517\u001b[0m\n",
      "\u001b[34m[63]#011train-logloss:0.02429#011validation-logloss:0.16559\u001b[0m\n",
      "\u001b[34m[64]#011train-logloss:0.02400#011validation-logloss:0.16530\u001b[0m\n",
      "\u001b[34m[65]#011train-logloss:0.02356#011validation-logloss:0.16634\u001b[0m\n",
      "\u001b[34m[66]#011train-logloss:0.02273#011validation-logloss:0.16764\u001b[0m\n",
      "\u001b[34m[67]#011train-logloss:0.02247#011validation-logloss:0.16767\u001b[0m\n",
      "\u001b[34m[68]#011train-logloss:0.02202#011validation-logloss:0.16900\u001b[0m\n",
      "\u001b[34m[69]#011train-logloss:0.02134#011validation-logloss:0.16739\u001b[0m\n",
      "\u001b[34m[70]#011train-logloss:0.02088#011validation-logloss:0.16746\u001b[0m\n",
      "\u001b[34m[71]#011train-logloss:0.02011#011validation-logloss:0.16666\u001b[0m\n",
      "\u001b[34m[72]#011train-logloss:0.01987#011validation-logloss:0.16660\u001b[0m\n",
      "\u001b[34m[73]#011train-logloss:0.01949#011validation-logloss:0.16754\u001b[0m\n",
      "\u001b[34m[74]#011train-logloss:0.01911#011validation-logloss:0.16735\u001b[0m\n",
      "\u001b[34m[75]#011train-logloss:0.01851#011validation-logloss:0.16699\u001b[0m\n",
      "\u001b[34m[76]#011train-logloss:0.01809#011validation-logloss:0.16803\u001b[0m\n",
      "\u001b[34m[77]#011train-logloss:0.01758#011validation-logloss:0.16842\u001b[0m\n",
      "\u001b[34m[78]#011train-logloss:0.01733#011validation-logloss:0.16790\u001b[0m\n",
      "\u001b[34m[79]#011train-logloss:0.01699#011validation-logloss:0.16841\u001b[0m\n",
      "\u001b[34m[80]#011train-logloss:0.01640#011validation-logloss:0.16927\u001b[0m\n",
      "\u001b[34m[81]#011train-logloss:0.01588#011validation-logloss:0.16851\u001b[0m\n",
      "\u001b[34m[82]#011train-logloss:0.01575#011validation-logloss:0.16882\u001b[0m\n",
      "\u001b[34m[83]#011train-logloss:0.01536#011validation-logloss:0.16951\u001b[0m\n",
      "\u001b[34m[84]#011train-logloss:0.01505#011validation-logloss:0.16882\u001b[0m\n",
      "\u001b[34m[85]#011train-logloss:0.01478#011validation-logloss:0.16854\u001b[0m\n",
      "\u001b[34m[86]#011train-logloss:0.01443#011validation-logloss:0.16855\u001b[0m\n",
      "\u001b[34m[87]#011train-logloss:0.01403#011validation-logloss:0.16772\u001b[0m\n",
      "\u001b[34m[88]#011train-logloss:0.01376#011validation-logloss:0.16850\u001b[0m\n",
      "\u001b[34m[89]#011train-logloss:0.01344#011validation-logloss:0.16858\u001b[0m\n",
      "\u001b[34m[90]#011train-logloss:0.01312#011validation-logloss:0.16923\u001b[0m\n",
      "\u001b[34m[91]#011train-logloss:0.01291#011validation-logloss:0.17020\u001b[0m\n",
      "\u001b[34m[92]#011train-logloss:0.01269#011validation-logloss:0.17117\u001b[0m\n",
      "\u001b[34m[93]#011train-logloss:0.01244#011validation-logloss:0.17100\u001b[0m\n",
      "\u001b[34m[94]#011train-logloss:0.01210#011validation-logloss:0.17017\u001b[0m\n",
      "\u001b[34m[95]#011train-logloss:0.01195#011validation-logloss:0.17019\u001b[0m\n",
      "\u001b[34m[96]#011train-logloss:0.01172#011validation-logloss:0.17117\u001b[0m\n",
      "\u001b[34m[97]#011train-logloss:0.01148#011validation-logloss:0.17171\u001b[0m\n",
      "\u001b[34m[98]#011train-logloss:0.01124#011validation-logloss:0.17043\u001b[0m\n",
      "\u001b[34m[99]#011train-logloss:0.01102#011validation-logloss:0.17063\u001b[0m\n",
      "\n",
      "2024-07-15 16:48:16 Completed - Training job completed\n",
      "Training seconds: 125\n",
      "Billable seconds: 125\n"
     ]
    }
   ],
   "source": [
    "xgb = sagemaker.estimator.Estimator(\n",
    "    xgb_image,\n",
    "    role,\n",
    "    instance_count=1,\n",
    "    instance_type='ml.m5.large',\n",
    "    output_path=f's3://{bucket}/output',\n",
    "    sagemaker_session=session,\n",
    ")\n",
    "xgb.set_hyperparameters(\n",
    "    max_depth=5,\n",
    "    objective='binary:logistic',\n",
    "    num_round=100,\n",
    ")\n",
    "\n",
    "xgb.fit(\n",
    "    {\n",
    "        'train': s3_input_train,\n",
    "        'validation': s3_input_validate\n",
    "    }\n",
    ")"
   ]
  },
  {
   "cell_type": "markdown",
   "id": "3aec1b84-1c28-4edc-a5d5-66c30efadf02",
   "metadata": {},
   "source": [
    "# Deploy and test a model"
   ]
  },
  {
   "cell_type": "markdown",
   "id": "b58e0bc1-5ea1-4548-9eb4-db0f5bab388b",
   "metadata": {},
   "source": [
    "Deploy a model"
   ]
  },
  {
   "cell_type": "code",
   "execution_count": 20,
   "id": "fb6fcdd5-2f6b-49f0-8bc1-b7d97e60976a",
   "metadata": {},
   "outputs": [
    {
     "name": "stderr",
     "output_type": "stream",
     "text": [
      "INFO:sagemaker:Creating model with name: sagemaker-xgboost-2024-07-15-17-08-15-805\n",
      "INFO:sagemaker:Creating endpoint-config with name sagemaker-xgboost-2024-07-15-17-08-15-805\n",
      "INFO:sagemaker:Creating endpoint with name sagemaker-xgboost-2024-07-15-17-08-15-805\n"
     ]
    },
    {
     "name": "stdout",
     "output_type": "stream",
     "text": [
      "------------------!"
     ]
    }
   ],
   "source": [
    "from sagemaker.serializers import CSVSerializer\n",
    "\n",
    "xgb_predictor = xgb.deploy(\n",
    "    initial_instance_count=1,\n",
    "    instance_type='ml.t2.medium',\n",
    "    serializer=CSVSerializer()\n",
    ")"
   ]
  },
  {
   "cell_type": "markdown",
   "id": "242e26d7-c13d-40c1-969e-47e3e76f5bf3",
   "metadata": {},
   "source": [
    "# Extract attributes and target values"
   ]
  },
  {
   "cell_type": "code",
   "execution_count": 28,
   "id": "d1d2fe15-879c-4642-82db-c73ed7f4b4ab",
   "metadata": {},
   "outputs": [],
   "source": [
    "boolean_columns = churn_df_test.select_dtypes(include=['bool']).columns"
   ]
  },
  {
   "cell_type": "code",
   "execution_count": 30,
   "id": "d4e9fd51-d842-42b8-b4bc-419786826d80",
   "metadata": {},
   "outputs": [],
   "source": [
    "churn_df_test[boolean_columns] = churn_df_test[boolean_columns].astype(int)"
   ]
  },
  {
   "cell_type": "code",
   "execution_count": 31,
   "id": "8ac06ed4-0596-4a29-8625-fe2cf6427d47",
   "metadata": {
    "tags": []
   },
   "outputs": [],
   "source": [
    "churn_np_test = churn_df_test.to_numpy()"
   ]
  },
  {
   "cell_type": "code",
   "execution_count": 32,
   "id": "a3c1e4fb-c8a0-4eff-90ff-8f787f67132c",
   "metadata": {
    "tags": []
   },
   "outputs": [],
   "source": [
    "actual = churn_np_test[:, 0]"
   ]
  },
  {
   "cell_type": "code",
   "execution_count": 33,
   "id": "e3279dff-fdc2-4e56-a4e8-33a378bb072a",
   "metadata": {
    "tags": []
   },
   "outputs": [],
   "source": [
    "attributes = churn_np_test[:, 1:]"
   ]
  },
  {
   "cell_type": "markdown",
   "id": "eb06872e-daa6-4ddf-a1a7-9edb4a3313c4",
   "metadata": {},
   "source": [
    "# Use a model on the test set"
   ]
  },
  {
   "cell_type": "code",
   "execution_count": 34,
   "id": "5d03537e-fc28-4614-906d-7b06fca6e7b8",
   "metadata": {},
   "outputs": [
    {
     "data": {
      "text/plain": [
       "array([[114.        ,   0.        ,   0.50664522, ...,   1.        ,\n",
       "          1.        ,   0.        ],\n",
       "       [124.        ,   0.        ,   8.25109717, ...,   1.        ,\n",
       "          1.        ,   0.        ],\n",
       "       [189.        ,   0.        ,   3.80580833, ...,   0.        ,\n",
       "          1.        ,   0.        ],\n",
       "       ...,\n",
       "       [ 42.        ,   0.        ,   7.11483611, ...,   0.        ,\n",
       "          1.        ,   0.        ],\n",
       "       [ 62.        , 200.        ,   3.148166  , ...,   0.        ,\n",
       "          0.        ,   1.        ],\n",
       "       [179.        ,   0.        ,   2.54804744, ...,   0.        ,\n",
       "          1.        ,   0.        ]])"
      ]
     },
     "execution_count": 34,
     "metadata": {},
     "output_type": "execute_result"
    }
   ],
   "source": [
    "attributes"
   ]
  },
  {
   "cell_type": "code",
   "execution_count": 54,
   "id": "d003e90a-89b1-46f3-b23b-9fd3c7ed91a5",
   "metadata": {
    "tags": []
   },
   "outputs": [
    {
     "data": {
      "text/plain": [
       "'0.0001070175931090489\\n'"
      ]
     },
     "execution_count": 54,
     "metadata": {},
     "output_type": "execute_result"
    }
   ],
   "source": [
    "res = xgb_predictor.predict(attributes[0]).decode('utf-8')\n",
    "res"
   ]
  },
  {
   "cell_type": "code",
   "execution_count": 55,
   "id": "fc00090e-317a-4f1c-8d69-a1bb62e75a81",
   "metadata": {},
   "outputs": [],
   "source": [
    "for i in range(0, 100):\n",
    "    res = xgb_predictor.predict(attributes[0]).decode('utf-8')"
   ]
  },
  {
   "cell_type": "code",
   "execution_count": 36,
   "id": "d2d5ba63-e3b8-4cd0-9b6b-30debfaa57b7",
   "metadata": {
    "tags": []
   },
   "outputs": [],
   "source": [
    "results = xgb_predictor.predict(attributes).decode('utf-8')"
   ]
  },
  {
   "cell_type": "markdown",
   "id": "22e51d31-5d61-47a7-bd0f-8203a627c7e6",
   "metadata": {},
   "source": [
    "# Calculate accuracy"
   ]
  },
  {
   "cell_type": "code",
   "execution_count": 37,
   "id": "2aa78057-dc79-4a04-a86d-48ce24e655f6",
   "metadata": {
    "tags": []
   },
   "outputs": [],
   "source": [
    "predictions_str = results.split('\\n')[:-1]\n",
    "predictions = [float(res_str) for res_str in predictions_str]"
   ]
  },
  {
   "cell_type": "code",
   "execution_count": null,
   "id": "b74c7428-0f48-468f-a880-0b4356a90817",
   "metadata": {},
   "outputs": [],
   "source": [
    "p"
   ]
  },
  {
   "cell_type": "code",
   "execution_count": 38,
   "id": "49b13934-87da-4736-bd85-1db56b8fcae0",
   "metadata": {
    "tags": []
   },
   "outputs": [
    {
     "data": {
      "text/plain": [
       "0.945"
      ]
     },
     "execution_count": 38,
     "metadata": {},
     "output_type": "execute_result"
    }
   ],
   "source": [
    "from sklearn.metrics import accuracy_score\n",
    "accuracy_score(actual, np.round(predictions))"
   ]
  },
  {
   "cell_type": "markdown",
   "id": "90134b8d-438c-40a6-b98f-9a6c69815fae",
   "metadata": {},
   "source": [
    "# Delete deployed endpoint"
   ]
  },
  {
   "cell_type": "code",
   "execution_count": null,
   "id": "3bd13179-96d6-48a5-bf44-4785b7762fb7",
   "metadata": {},
   "outputs": [],
   "source": [
    "xgb_predictor.delete_endpoint()"
   ]
  }
 ],
 "metadata": {
  "availableInstances": [
   {
    "_defaultOrder": 0,
    "_isFastLaunch": true,
    "category": "General purpose",
    "gpuNum": 0,
    "memoryGiB": 4,
    "name": "ml.t3.medium",
    "vcpuNum": 2
   },
   {
    "_defaultOrder": 1,
    "_isFastLaunch": false,
    "category": "General purpose",
    "gpuNum": 0,
    "memoryGiB": 8,
    "name": "ml.t3.large",
    "vcpuNum": 2
   },
   {
    "_defaultOrder": 2,
    "_isFastLaunch": false,
    "category": "General purpose",
    "gpuNum": 0,
    "memoryGiB": 16,
    "name": "ml.t3.xlarge",
    "vcpuNum": 4
   },
   {
    "_defaultOrder": 3,
    "_isFastLaunch": false,
    "category": "General purpose",
    "gpuNum": 0,
    "memoryGiB": 32,
    "name": "ml.t3.2xlarge",
    "vcpuNum": 8
   },
   {
    "_defaultOrder": 4,
    "_isFastLaunch": true,
    "category": "General purpose",
    "gpuNum": 0,
    "memoryGiB": 8,
    "name": "ml.m5.large",
    "vcpuNum": 2
   },
   {
    "_defaultOrder": 5,
    "_isFastLaunch": false,
    "category": "General purpose",
    "gpuNum": 0,
    "memoryGiB": 16,
    "name": "ml.m5.xlarge",
    "vcpuNum": 4
   },
   {
    "_defaultOrder": 6,
    "_isFastLaunch": false,
    "category": "General purpose",
    "gpuNum": 0,
    "memoryGiB": 32,
    "name": "ml.m5.2xlarge",
    "vcpuNum": 8
   },
   {
    "_defaultOrder": 7,
    "_isFastLaunch": false,
    "category": "General purpose",
    "gpuNum": 0,
    "memoryGiB": 64,
    "name": "ml.m5.4xlarge",
    "vcpuNum": 16
   },
   {
    "_defaultOrder": 8,
    "_isFastLaunch": false,
    "category": "General purpose",
    "gpuNum": 0,
    "memoryGiB": 128,
    "name": "ml.m5.8xlarge",
    "vcpuNum": 32
   },
   {
    "_defaultOrder": 9,
    "_isFastLaunch": false,
    "category": "General purpose",
    "gpuNum": 0,
    "memoryGiB": 192,
    "name": "ml.m5.12xlarge",
    "vcpuNum": 48
   },
   {
    "_defaultOrder": 10,
    "_isFastLaunch": false,
    "category": "General purpose",
    "gpuNum": 0,
    "memoryGiB": 256,
    "name": "ml.m5.16xlarge",
    "vcpuNum": 64
   },
   {
    "_defaultOrder": 11,
    "_isFastLaunch": false,
    "category": "General purpose",
    "gpuNum": 0,
    "memoryGiB": 384,
    "name": "ml.m5.24xlarge",
    "vcpuNum": 96
   },
   {
    "_defaultOrder": 12,
    "_isFastLaunch": false,
    "category": "General purpose",
    "gpuNum": 0,
    "memoryGiB": 8,
    "name": "ml.m5d.large",
    "vcpuNum": 2
   },
   {
    "_defaultOrder": 13,
    "_isFastLaunch": false,
    "category": "General purpose",
    "gpuNum": 0,
    "memoryGiB": 16,
    "name": "ml.m5d.xlarge",
    "vcpuNum": 4
   },
   {
    "_defaultOrder": 14,
    "_isFastLaunch": false,
    "category": "General purpose",
    "gpuNum": 0,
    "memoryGiB": 32,
    "name": "ml.m5d.2xlarge",
    "vcpuNum": 8
   },
   {
    "_defaultOrder": 15,
    "_isFastLaunch": false,
    "category": "General purpose",
    "gpuNum": 0,
    "memoryGiB": 64,
    "name": "ml.m5d.4xlarge",
    "vcpuNum": 16
   },
   {
    "_defaultOrder": 16,
    "_isFastLaunch": false,
    "category": "General purpose",
    "gpuNum": 0,
    "memoryGiB": 128,
    "name": "ml.m5d.8xlarge",
    "vcpuNum": 32
   },
   {
    "_defaultOrder": 17,
    "_isFastLaunch": false,
    "category": "General purpose",
    "gpuNum": 0,
    "memoryGiB": 192,
    "name": "ml.m5d.12xlarge",
    "vcpuNum": 48
   },
   {
    "_defaultOrder": 18,
    "_isFastLaunch": false,
    "category": "General purpose",
    "gpuNum": 0,
    "memoryGiB": 256,
    "name": "ml.m5d.16xlarge",
    "vcpuNum": 64
   },
   {
    "_defaultOrder": 19,
    "_isFastLaunch": false,
    "category": "General purpose",
    "gpuNum": 0,
    "memoryGiB": 384,
    "name": "ml.m5d.24xlarge",
    "vcpuNum": 96
   },
   {
    "_defaultOrder": 20,
    "_isFastLaunch": true,
    "category": "Compute optimized",
    "gpuNum": 0,
    "memoryGiB": 4,
    "name": "ml.c5.large",
    "vcpuNum": 2
   },
   {
    "_defaultOrder": 21,
    "_isFastLaunch": false,
    "category": "Compute optimized",
    "gpuNum": 0,
    "memoryGiB": 8,
    "name": "ml.c5.xlarge",
    "vcpuNum": 4
   },
   {
    "_defaultOrder": 22,
    "_isFastLaunch": false,
    "category": "Compute optimized",
    "gpuNum": 0,
    "memoryGiB": 16,
    "name": "ml.c5.2xlarge",
    "vcpuNum": 8
   },
   {
    "_defaultOrder": 23,
    "_isFastLaunch": false,
    "category": "Compute optimized",
    "gpuNum": 0,
    "memoryGiB": 32,
    "name": "ml.c5.4xlarge",
    "vcpuNum": 16
   },
   {
    "_defaultOrder": 24,
    "_isFastLaunch": false,
    "category": "Compute optimized",
    "gpuNum": 0,
    "memoryGiB": 72,
    "name": "ml.c5.9xlarge",
    "vcpuNum": 36
   },
   {
    "_defaultOrder": 25,
    "_isFastLaunch": false,
    "category": "Compute optimized",
    "gpuNum": 0,
    "memoryGiB": 96,
    "name": "ml.c5.12xlarge",
    "vcpuNum": 48
   },
   {
    "_defaultOrder": 26,
    "_isFastLaunch": false,
    "category": "Compute optimized",
    "gpuNum": 0,
    "memoryGiB": 144,
    "name": "ml.c5.18xlarge",
    "vcpuNum": 72
   },
   {
    "_defaultOrder": 27,
    "_isFastLaunch": false,
    "category": "Compute optimized",
    "gpuNum": 0,
    "memoryGiB": 192,
    "name": "ml.c5.24xlarge",
    "vcpuNum": 96
   },
   {
    "_defaultOrder": 28,
    "_isFastLaunch": true,
    "category": "Accelerated computing",
    "gpuNum": 1,
    "memoryGiB": 16,
    "name": "ml.g4dn.xlarge",
    "vcpuNum": 4
   },
   {
    "_defaultOrder": 29,
    "_isFastLaunch": false,
    "category": "Accelerated computing",
    "gpuNum": 1,
    "memoryGiB": 32,
    "name": "ml.g4dn.2xlarge",
    "vcpuNum": 8
   },
   {
    "_defaultOrder": 30,
    "_isFastLaunch": false,
    "category": "Accelerated computing",
    "gpuNum": 1,
    "memoryGiB": 64,
    "name": "ml.g4dn.4xlarge",
    "vcpuNum": 16
   },
   {
    "_defaultOrder": 31,
    "_isFastLaunch": false,
    "category": "Accelerated computing",
    "gpuNum": 1,
    "memoryGiB": 128,
    "name": "ml.g4dn.8xlarge",
    "vcpuNum": 32
   },
   {
    "_defaultOrder": 32,
    "_isFastLaunch": false,
    "category": "Accelerated computing",
    "gpuNum": 4,
    "memoryGiB": 192,
    "name": "ml.g4dn.12xlarge",
    "vcpuNum": 48
   },
   {
    "_defaultOrder": 33,
    "_isFastLaunch": false,
    "category": "Accelerated computing",
    "gpuNum": 1,
    "memoryGiB": 256,
    "name": "ml.g4dn.16xlarge",
    "vcpuNum": 64
   },
   {
    "_defaultOrder": 34,
    "_isFastLaunch": false,
    "category": "Accelerated computing",
    "gpuNum": 1,
    "memoryGiB": 61,
    "name": "ml.p3.2xlarge",
    "vcpuNum": 8
   },
   {
    "_defaultOrder": 35,
    "_isFastLaunch": false,
    "category": "Accelerated computing",
    "gpuNum": 4,
    "memoryGiB": 244,
    "name": "ml.p3.8xlarge",
    "vcpuNum": 32
   },
   {
    "_defaultOrder": 36,
    "_isFastLaunch": false,
    "category": "Accelerated computing",
    "gpuNum": 8,
    "memoryGiB": 488,
    "name": "ml.p3.16xlarge",
    "vcpuNum": 64
   },
   {
    "_defaultOrder": 37,
    "_isFastLaunch": false,
    "category": "Accelerated computing",
    "gpuNum": 8,
    "memoryGiB": 768,
    "name": "ml.p3dn.24xlarge",
    "vcpuNum": 96
   },
   {
    "_defaultOrder": 38,
    "_isFastLaunch": false,
    "category": "Memory Optimized",
    "gpuNum": 0,
    "memoryGiB": 16,
    "name": "ml.r5.large",
    "vcpuNum": 2
   },
   {
    "_defaultOrder": 39,
    "_isFastLaunch": false,
    "category": "Memory Optimized",
    "gpuNum": 0,
    "memoryGiB": 32,
    "name": "ml.r5.xlarge",
    "vcpuNum": 4
   },
   {
    "_defaultOrder": 40,
    "_isFastLaunch": false,
    "category": "Memory Optimized",
    "gpuNum": 0,
    "memoryGiB": 64,
    "name": "ml.r5.2xlarge",
    "vcpuNum": 8
   },
   {
    "_defaultOrder": 41,
    "_isFastLaunch": false,
    "category": "Memory Optimized",
    "gpuNum": 0,
    "memoryGiB": 128,
    "name": "ml.r5.4xlarge",
    "vcpuNum": 16
   },
   {
    "_defaultOrder": 42,
    "_isFastLaunch": false,
    "category": "Memory Optimized",
    "gpuNum": 0,
    "memoryGiB": 256,
    "name": "ml.r5.8xlarge",
    "vcpuNum": 32
   },
   {
    "_defaultOrder": 43,
    "_isFastLaunch": false,
    "category": "Memory Optimized",
    "gpuNum": 0,
    "memoryGiB": 384,
    "name": "ml.r5.12xlarge",
    "vcpuNum": 48
   },
   {
    "_defaultOrder": 44,
    "_isFastLaunch": false,
    "category": "Memory Optimized",
    "gpuNum": 0,
    "memoryGiB": 512,
    "name": "ml.r5.16xlarge",
    "vcpuNum": 64
   },
   {
    "_defaultOrder": 45,
    "_isFastLaunch": false,
    "category": "Memory Optimized",
    "gpuNum": 0,
    "memoryGiB": 768,
    "name": "ml.r5.24xlarge",
    "vcpuNum": 96
   },
   {
    "_defaultOrder": 46,
    "_isFastLaunch": false,
    "category": "Accelerated computing",
    "gpuNum": 1,
    "memoryGiB": 16,
    "name": "ml.g5.xlarge",
    "vcpuNum": 4
   },
   {
    "_defaultOrder": 47,
    "_isFastLaunch": false,
    "category": "Accelerated computing",
    "gpuNum": 1,
    "memoryGiB": 32,
    "name": "ml.g5.2xlarge",
    "vcpuNum": 8
   },
   {
    "_defaultOrder": 48,
    "_isFastLaunch": false,
    "category": "Accelerated computing",
    "gpuNum": 1,
    "memoryGiB": 64,
    "name": "ml.g5.4xlarge",
    "vcpuNum": 16
   },
   {
    "_defaultOrder": 49,
    "_isFastLaunch": false,
    "category": "Accelerated computing",
    "gpuNum": 1,
    "memoryGiB": 128,
    "name": "ml.g5.8xlarge",
    "vcpuNum": 32
   },
   {
    "_defaultOrder": 50,
    "_isFastLaunch": false,
    "category": "Accelerated computing",
    "gpuNum": 1,
    "memoryGiB": 256,
    "name": "ml.g5.16xlarge",
    "vcpuNum": 64
   },
   {
    "_defaultOrder": 51,
    "_isFastLaunch": false,
    "category": "Accelerated computing",
    "gpuNum": 4,
    "memoryGiB": 192,
    "name": "ml.g5.12xlarge",
    "vcpuNum": 48
   },
   {
    "_defaultOrder": 52,
    "_isFastLaunch": false,
    "category": "Accelerated computing",
    "gpuNum": 4,
    "memoryGiB": 384,
    "name": "ml.g5.24xlarge",
    "vcpuNum": 96
   },
   {
    "_defaultOrder": 53,
    "_isFastLaunch": false,
    "category": "Accelerated computing",
    "gpuNum": 8,
    "memoryGiB": 768,
    "name": "ml.g5.48xlarge",
    "vcpuNum": 192
   }
  ],
  "instance_type": "ml.t3.medium",
  "kernelspec": {
   "display_name": "Python 3 (ipykernel)",
   "language": "python",
   "name": "python3"
  },
  "language_info": {
   "codemirror_mode": {
    "name": "ipython",
    "version": 3
   },
   "file_extension": ".py",
   "mimetype": "text/x-python",
   "name": "python",
   "nbconvert_exporter": "python",
   "pygments_lexer": "ipython3",
   "version": "3.10.14"
  }
 },
 "nbformat": 4,
 "nbformat_minor": 5
}
