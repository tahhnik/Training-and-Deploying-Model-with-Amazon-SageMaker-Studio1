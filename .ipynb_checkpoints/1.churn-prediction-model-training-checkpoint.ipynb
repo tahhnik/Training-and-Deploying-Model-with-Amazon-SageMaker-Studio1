{
 "cells": [
  {
   "cell_type": "code",
   "execution_count": null,
   "id": "1f074b4b-21ec-46c4-aac7-fb3ebd0f8b2e",
   "metadata": {
    "tags": []
   },
   "outputs": [],
   "source": [
    "import sagemaker\n",
    "session = sagemaker.Session()\n",
    "bucket = session.default_bucket()\n",
    "role = sagemaker.get_execution_role()"
   ]
  },
  {
   "cell_type": "code",
   "execution_count": null,
   "id": "9e7b9c7e-d13d-4800-a57f-8c0ae72799c8",
   "metadata": {
    "tags": []
   },
   "outputs": [],
   "source": [
    "import pandas as pd\n",
    "import numpy as np"
   ]
  },
  {
   "cell_type": "code",
   "execution_count": null,
   "id": "71dd0aab-dccf-45bd-a962-d6f1b5ac75d2",
   "metadata": {
    "tags": []
   },
   "outputs": [],
   "source": [
    "!aws s3 cp s3://sagemaker-sample-files/datasets/tabular/synthetic/churn.txt ./churn.txt"
   ]
  },
  {
   "cell_type": "code",
   "execution_count": null,
   "id": "aa07f3bb-9e31-4c0d-8f79-e6d5166015be",
   "metadata": {
    "tags": []
   },
   "outputs": [],
   "source": [
    "!head churn.txt"
   ]
  },
  {
   "cell_type": "markdown",
   "id": "f00d31e3-c283-4753-8558-053e24746bab",
   "metadata": {},
   "source": [
    "# Read data from CSV"
   ]
  },
  {
   "cell_type": "code",
   "execution_count": null,
   "id": "92f17904-41f6-4cb2-ae7a-e3e14773d08a",
   "metadata": {
    "tags": []
   },
   "outputs": [],
   "source": [
    "churn_df = pd.read_csv('./churn.txt')\n",
    "churn_df.head()"
   ]
  },
  {
   "cell_type": "markdown",
   "id": "bd2f27e9-ffb5-4729-a5a9-8049b9303bdd",
   "metadata": {},
   "source": [
    "# Dataset description"
   ]
  },
  {
   "cell_type": "markdown",
   "id": "c69b3d6c-6823-48d4-be74-5ed484ac39ae",
   "metadata": {},
   "source": [
    "**State** – The US state in which the customer resides, indicated by a two-letter abbreviation; for example, OH or NJ\n",
    "\n",
    "**Account Length** – The number of days that this account has been active\n",
    "\n",
    "**Area Code** – The three-digit area code of the customer’s phone number\n",
    "\n",
    "**Phone** – The remaining seven-digit phone number\n",
    "\n",
    "**Int’l Plan** – Whether the customer has an international calling plan (yes/no)\n",
    "\n",
    "**VMail Plan** – Whether the customer has a voice mail feature (yes/no)\n",
    "\n",
    "**VMail Message** – The average number of voice mail messages per month\n",
    "\n",
    "**Day Mins** – The total number of calling minutes used during the day\n",
    "\n",
    "**Day Calls** – The total number of calls placed during the day\n",
    "\n",
    "**Day Charge** – The billed cost of daytime calls\n",
    "\n",
    "**Eve Mins**, **Eve Calls**, **Eve Charge**– The billed cost for evening calls\n",
    "\n",
    "**Night Mins**, **Night Calls**, **Night Charge** – The billed cost for nighttime calls\n",
    "\n",
    "**Intl Mins**, **Intl Calls**, **Intl Charge** – The billed cost for international calls\n",
    "\n",
    "**CustServ Calls** – The number of calls placed to customer service\n",
    "\n",
    "**Churn?** – Whether the customer left the service (true/false)"
   ]
  },
  {
   "cell_type": "markdown",
   "id": "8deb46b2-b093-4bbc-a02f-bc20b6ee2b89",
   "metadata": {},
   "source": [
    "# Data preprocessing"
   ]
  },
  {
   "cell_type": "markdown",
   "id": "19b7141c-8fba-444b-8610-5b120c9062a0",
   "metadata": {},
   "source": [
    "Remove `Phone` column"
   ]
  },
  {
   "cell_type": "code",
   "execution_count": null,
   "id": "044374ac-5ea8-4033-8983-817f9dc07116",
   "metadata": {
    "tags": []
   },
   "outputs": [],
   "source": [
    "churn_df = churn_df.drop('Phone', axis=1)"
   ]
  },
  {
   "cell_type": "markdown",
   "id": "dfd70117-5fbc-4ca3-8aac-eaef8058d235",
   "metadata": {},
   "source": [
    "Convert `Area Code` from `int` to string"
   ]
  },
  {
   "cell_type": "code",
   "execution_count": null,
   "id": "4765b57d-ebd0-48fc-89ff-5db36d4b00f1",
   "metadata": {
    "tags": []
   },
   "outputs": [],
   "source": [
    "churn_df['Area Code'] = churn_df['Area Code'].astype(object)"
   ]
  },
  {
   "cell_type": "markdown",
   "id": "8c03c72b-2c80-478c-9786-312020422fe9",
   "metadata": {},
   "source": [
    "Convert result variable from `True.`/`False.` to `1`/`0`"
   ]
  },
  {
   "cell_type": "code",
   "execution_count": null,
   "id": "4d5cdd15-8789-4c06-b33c-4b4d1e00b98f",
   "metadata": {
    "tags": []
   },
   "outputs": [],
   "source": [
    "churn_df['Churn?'] = np.where(churn_df['Churn?'] == 'False.', 0, 1)"
   ]
  },
  {
   "cell_type": "markdown",
   "id": "c90d82ec-05ca-404d-95cf-53ef59248b11",
   "metadata": {},
   "source": [
    "Move `Churn?` column to the beginning of the table"
   ]
  },
  {
   "cell_type": "code",
   "execution_count": null,
   "id": "97e14834-56f7-45d1-a864-3cbca88b6ba1",
   "metadata": {
    "tags": []
   },
   "outputs": [],
   "source": [
    "churn_df = pd.concat(\n",
    "    [churn_df['Churn?'], churn_df.drop(['Churn?'], axis=1)], axis=1\n",
    ")"
   ]
  },
  {
   "cell_type": "code",
   "execution_count": null,
   "id": "55f99ff5-89e3-4446-957c-51fec65501ea",
   "metadata": {
    "tags": []
   },
   "outputs": [],
   "source": [
    "churn_df.head()"
   ]
  },
  {
   "cell_type": "markdown",
   "id": "58ffb815-af10-44ca-b5ec-801f6fb3ccc0",
   "metadata": {},
   "source": [
    "Use one hot encoding for non-numeric fields."
   ]
  },
  {
   "cell_type": "code",
   "execution_count": null,
   "id": "c585944a-7ae4-468d-be90-d1475265a9df",
   "metadata": {
    "tags": []
   },
   "outputs": [],
   "source": [
    "churn_df = pd.get_dummies(churn_df)"
   ]
  },
  {
   "cell_type": "code",
   "execution_count": null,
   "id": "8608d273-e74b-49d0-997f-0a59f115202b",
   "metadata": {
    "tags": []
   },
   "outputs": [],
   "source": [
    "churn_df.head()"
   ]
  },
  {
   "cell_type": "markdown",
   "id": "e835b337-b86e-487a-8365-26ec7fb40525",
   "metadata": {},
   "source": [
    "# Data splitting"
   ]
  },
  {
   "cell_type": "markdown",
   "id": "e732a743-e3c1-4842-87b1-0d33361c0126",
   "metadata": {},
   "source": [
    "Randomly shuffle the dataset"
   ]
  },
  {
   "cell_type": "code",
   "execution_count": null,
   "id": "1ba1c499-0a27-48fc-9a08-6f878e6b92ba",
   "metadata": {
    "tags": []
   },
   "outputs": [],
   "source": [
    "churn_df_shuffled = churn_df.sample(frac=1, random_state=42)"
   ]
  },
  {
   "cell_type": "markdown",
   "id": "cb30dc64-4d29-4250-8780-cb9f21f8b7f1",
   "metadata": {},
   "source": [
    "Split datset into train/validation/test datasets"
   ]
  },
  {
   "cell_type": "code",
   "execution_count": null,
   "id": "ea95b30c-c057-4fe7-8912-c915912bc27d",
   "metadata": {
    "tags": []
   },
   "outputs": [],
   "source": [
    "churn_df_len = len(churn_df_shuffled)\n",
    "churn_df_train, churn_df_validate, churn_df_test = np.split(\n",
    "    churn_df_shuffled, \n",
    "    [\n",
    "        int(0.6 * churn_df_len),\n",
    "        int(0.8 * churn_df_len)\n",
    "    ]\n",
    ")"
   ]
  },
  {
   "cell_type": "markdown",
   "id": "fece9bd7-79a9-4812-a7dd-13b136d996a3",
   "metadata": {},
   "source": [
    "Write datsets as CSV files. \n",
    "\n",
    "We want to write a file without row names (`index=False`) and without a CSV header (`header=False`)"
   ]
  },
  {
   "cell_type": "code",
   "execution_count": null,
   "id": "df03420e-0ecd-4163-9e62-995f36453fcb",
   "metadata": {
    "tags": []
   },
   "outputs": [],
   "source": [
    "churn_df_train.to_csv('churn_train.csv', header=False, index=False)\n",
    "churn_df_validate.to_csv('churn_validate.csv', header=False, index=False)"
   ]
  },
  {
   "cell_type": "markdown",
   "id": "12980b27-e426-4617-906d-bbf316751730",
   "metadata": {},
   "source": [
    "Copy result files to S3"
   ]
  },
  {
   "cell_type": "code",
   "execution_count": null,
   "id": "0b130f94-e5e8-4555-ba46-8271475a9285",
   "metadata": {},
   "outputs": [],
   "source": [
    "!aws s3 cp churn_train.csv s3://{bucket}/churn_train.csv\n",
    "!aws s3 cp churn_validate.csv s3://{bucket}/churn_validate.csv"
   ]
  },
  {
   "cell_type": "markdown",
   "id": "c6e3f980-bffd-4163-b67c-ea370bd59c28",
   "metadata": {},
   "source": [
    "Create inputs for the estimator"
   ]
  },
  {
   "cell_type": "code",
   "execution_count": null,
   "id": "32f89998-d39b-454b-a791-66405652cff0",
   "metadata": {
    "tags": []
   },
   "outputs": [],
   "source": [
    "from sagemaker.inputs import TrainingInput\n",
    "\n",
    "s3_input_train = TrainingInput(\n",
    "    s3_data=f's3://{bucket}/churn_train.csv', content_type='csv'\n",
    ")\n",
    "s3_input_validate = TrainingInput(\n",
    "    s3_data=f's3://{bucket}/churn_validate.csv', content_type='csv'\n",
    ")"
   ]
  },
  {
   "cell_type": "markdown",
   "id": "cd157cf0-9e33-4ca1-a8b5-7b374b5dfeda",
   "metadata": {},
   "source": [
    "Load a container XGBoost algorithm"
   ]
  },
  {
   "cell_type": "code",
   "execution_count": null,
   "id": "8a26f6b1-4c75-4d4c-a3ae-8990a0ef918e",
   "metadata": {
    "tags": []
   },
   "outputs": [],
   "source": [
    "xgb_image = sagemaker.image_uris.retrieve('xgboost', session.boto_region_name, '1.5-1')"
   ]
  },
  {
   "cell_type": "markdown",
   "id": "dfbbd466-00fe-40ac-8c36-a2ce6af8a458",
   "metadata": {},
   "source": [
    "Train a model"
   ]
  },
  {
   "cell_type": "code",
   "execution_count": null,
   "id": "f5e1fc8f-8418-40eb-bc2c-90d6e636ba95",
   "metadata": {
    "tags": []
   },
   "outputs": [],
   "source": [
    "xgb = sagemaker.estimator.Estimator(\n",
    "    xgb_image,\n",
    "    role,\n",
    "    instance_count=1,\n",
    "    instance_type='ml.m5.large',\n",
    "    output_path=f's3://{bucket}/output',\n",
    "    sagemaker_session=session,\n",
    ")\n",
    "xgb.set_hyperparameters(\n",
    "    max_depth=5,\n",
    "    objective='binary:logistic',\n",
    "    num_round=100,\n",
    ")\n",
    "\n",
    "xgb.fit(\n",
    "    {\n",
    "        'train': s3_input_train,\n",
    "        'validation': s3_input_validate\n",
    "    }\n",
    ")"
   ]
  }
 ],
 "metadata": {
  "availableInstances": [
   {
    "_defaultOrder": 0,
    "_isFastLaunch": true,
    "category": "General purpose",
    "gpuNum": 0,
    "memoryGiB": 4,
    "name": "ml.t3.medium",
    "vcpuNum": 2
   },
   {
    "_defaultOrder": 1,
    "_isFastLaunch": false,
    "category": "General purpose",
    "gpuNum": 0,
    "memoryGiB": 8,
    "name": "ml.t3.large",
    "vcpuNum": 2
   },
   {
    "_defaultOrder": 2,
    "_isFastLaunch": false,
    "category": "General purpose",
    "gpuNum": 0,
    "memoryGiB": 16,
    "name": "ml.t3.xlarge",
    "vcpuNum": 4
   },
   {
    "_defaultOrder": 3,
    "_isFastLaunch": false,
    "category": "General purpose",
    "gpuNum": 0,
    "memoryGiB": 32,
    "name": "ml.t3.2xlarge",
    "vcpuNum": 8
   },
   {
    "_defaultOrder": 4,
    "_isFastLaunch": true,
    "category": "General purpose",
    "gpuNum": 0,
    "memoryGiB": 8,
    "name": "ml.m5.large",
    "vcpuNum": 2
   },
   {
    "_defaultOrder": 5,
    "_isFastLaunch": false,
    "category": "General purpose",
    "gpuNum": 0,
    "memoryGiB": 16,
    "name": "ml.m5.xlarge",
    "vcpuNum": 4
   },
   {
    "_defaultOrder": 6,
    "_isFastLaunch": false,
    "category": "General purpose",
    "gpuNum": 0,
    "memoryGiB": 32,
    "name": "ml.m5.2xlarge",
    "vcpuNum": 8
   },
   {
    "_defaultOrder": 7,
    "_isFastLaunch": false,
    "category": "General purpose",
    "gpuNum": 0,
    "memoryGiB": 64,
    "name": "ml.m5.4xlarge",
    "vcpuNum": 16
   },
   {
    "_defaultOrder": 8,
    "_isFastLaunch": false,
    "category": "General purpose",
    "gpuNum": 0,
    "memoryGiB": 128,
    "name": "ml.m5.8xlarge",
    "vcpuNum": 32
   },
   {
    "_defaultOrder": 9,
    "_isFastLaunch": false,
    "category": "General purpose",
    "gpuNum": 0,
    "memoryGiB": 192,
    "name": "ml.m5.12xlarge",
    "vcpuNum": 48
   },
   {
    "_defaultOrder": 10,
    "_isFastLaunch": false,
    "category": "General purpose",
    "gpuNum": 0,
    "memoryGiB": 256,
    "name": "ml.m5.16xlarge",
    "vcpuNum": 64
   },
   {
    "_defaultOrder": 11,
    "_isFastLaunch": false,
    "category": "General purpose",
    "gpuNum": 0,
    "memoryGiB": 384,
    "name": "ml.m5.24xlarge",
    "vcpuNum": 96
   },
   {
    "_defaultOrder": 12,
    "_isFastLaunch": false,
    "category": "General purpose",
    "gpuNum": 0,
    "memoryGiB": 8,
    "name": "ml.m5d.large",
    "vcpuNum": 2
   },
   {
    "_defaultOrder": 13,
    "_isFastLaunch": false,
    "category": "General purpose",
    "gpuNum": 0,
    "memoryGiB": 16,
    "name": "ml.m5d.xlarge",
    "vcpuNum": 4
   },
   {
    "_defaultOrder": 14,
    "_isFastLaunch": false,
    "category": "General purpose",
    "gpuNum": 0,
    "memoryGiB": 32,
    "name": "ml.m5d.2xlarge",
    "vcpuNum": 8
   },
   {
    "_defaultOrder": 15,
    "_isFastLaunch": false,
    "category": "General purpose",
    "gpuNum": 0,
    "memoryGiB": 64,
    "name": "ml.m5d.4xlarge",
    "vcpuNum": 16
   },
   {
    "_defaultOrder": 16,
    "_isFastLaunch": false,
    "category": "General purpose",
    "gpuNum": 0,
    "memoryGiB": 128,
    "name": "ml.m5d.8xlarge",
    "vcpuNum": 32
   },
   {
    "_defaultOrder": 17,
    "_isFastLaunch": false,
    "category": "General purpose",
    "gpuNum": 0,
    "memoryGiB": 192,
    "name": "ml.m5d.12xlarge",
    "vcpuNum": 48
   },
   {
    "_defaultOrder": 18,
    "_isFastLaunch": false,
    "category": "General purpose",
    "gpuNum": 0,
    "memoryGiB": 256,
    "name": "ml.m5d.16xlarge",
    "vcpuNum": 64
   },
   {
    "_defaultOrder": 19,
    "_isFastLaunch": false,
    "category": "General purpose",
    "gpuNum": 0,
    "memoryGiB": 384,
    "name": "ml.m5d.24xlarge",
    "vcpuNum": 96
   },
   {
    "_defaultOrder": 20,
    "_isFastLaunch": true,
    "category": "Compute optimized",
    "gpuNum": 0,
    "memoryGiB": 4,
    "name": "ml.c5.large",
    "vcpuNum": 2
   },
   {
    "_defaultOrder": 21,
    "_isFastLaunch": false,
    "category": "Compute optimized",
    "gpuNum": 0,
    "memoryGiB": 8,
    "name": "ml.c5.xlarge",
    "vcpuNum": 4
   },
   {
    "_defaultOrder": 22,
    "_isFastLaunch": false,
    "category": "Compute optimized",
    "gpuNum": 0,
    "memoryGiB": 16,
    "name": "ml.c5.2xlarge",
    "vcpuNum": 8
   },
   {
    "_defaultOrder": 23,
    "_isFastLaunch": false,
    "category": "Compute optimized",
    "gpuNum": 0,
    "memoryGiB": 32,
    "name": "ml.c5.4xlarge",
    "vcpuNum": 16
   },
   {
    "_defaultOrder": 24,
    "_isFastLaunch": false,
    "category": "Compute optimized",
    "gpuNum": 0,
    "memoryGiB": 72,
    "name": "ml.c5.9xlarge",
    "vcpuNum": 36
   },
   {
    "_defaultOrder": 25,
    "_isFastLaunch": false,
    "category": "Compute optimized",
    "gpuNum": 0,
    "memoryGiB": 96,
    "name": "ml.c5.12xlarge",
    "vcpuNum": 48
   },
   {
    "_defaultOrder": 26,
    "_isFastLaunch": false,
    "category": "Compute optimized",
    "gpuNum": 0,
    "memoryGiB": 144,
    "name": "ml.c5.18xlarge",
    "vcpuNum": 72
   },
   {
    "_defaultOrder": 27,
    "_isFastLaunch": false,
    "category": "Compute optimized",
    "gpuNum": 0,
    "memoryGiB": 192,
    "name": "ml.c5.24xlarge",
    "vcpuNum": 96
   },
   {
    "_defaultOrder": 28,
    "_isFastLaunch": true,
    "category": "Accelerated computing",
    "gpuNum": 1,
    "memoryGiB": 16,
    "name": "ml.g4dn.xlarge",
    "vcpuNum": 4
   },
   {
    "_defaultOrder": 29,
    "_isFastLaunch": false,
    "category": "Accelerated computing",
    "gpuNum": 1,
    "memoryGiB": 32,
    "name": "ml.g4dn.2xlarge",
    "vcpuNum": 8
   },
   {
    "_defaultOrder": 30,
    "_isFastLaunch": false,
    "category": "Accelerated computing",
    "gpuNum": 1,
    "memoryGiB": 64,
    "name": "ml.g4dn.4xlarge",
    "vcpuNum": 16
   },
   {
    "_defaultOrder": 31,
    "_isFastLaunch": false,
    "category": "Accelerated computing",
    "gpuNum": 1,
    "memoryGiB": 128,
    "name": "ml.g4dn.8xlarge",
    "vcpuNum": 32
   },
   {
    "_defaultOrder": 32,
    "_isFastLaunch": false,
    "category": "Accelerated computing",
    "gpuNum": 4,
    "memoryGiB": 192,
    "name": "ml.g4dn.12xlarge",
    "vcpuNum": 48
   },
   {
    "_defaultOrder": 33,
    "_isFastLaunch": false,
    "category": "Accelerated computing",
    "gpuNum": 1,
    "memoryGiB": 256,
    "name": "ml.g4dn.16xlarge",
    "vcpuNum": 64
   },
   {
    "_defaultOrder": 34,
    "_isFastLaunch": false,
    "category": "Accelerated computing",
    "gpuNum": 1,
    "memoryGiB": 61,
    "name": "ml.p3.2xlarge",
    "vcpuNum": 8
   },
   {
    "_defaultOrder": 35,
    "_isFastLaunch": false,
    "category": "Accelerated computing",
    "gpuNum": 4,
    "memoryGiB": 244,
    "name": "ml.p3.8xlarge",
    "vcpuNum": 32
   },
   {
    "_defaultOrder": 36,
    "_isFastLaunch": false,
    "category": "Accelerated computing",
    "gpuNum": 8,
    "memoryGiB": 488,
    "name": "ml.p3.16xlarge",
    "vcpuNum": 64
   },
   {
    "_defaultOrder": 37,
    "_isFastLaunch": false,
    "category": "Accelerated computing",
    "gpuNum": 8,
    "memoryGiB": 768,
    "name": "ml.p3dn.24xlarge",
    "vcpuNum": 96
   },
   {
    "_defaultOrder": 38,
    "_isFastLaunch": false,
    "category": "Memory Optimized",
    "gpuNum": 0,
    "memoryGiB": 16,
    "name": "ml.r5.large",
    "vcpuNum": 2
   },
   {
    "_defaultOrder": 39,
    "_isFastLaunch": false,
    "category": "Memory Optimized",
    "gpuNum": 0,
    "memoryGiB": 32,
    "name": "ml.r5.xlarge",
    "vcpuNum": 4
   },
   {
    "_defaultOrder": 40,
    "_isFastLaunch": false,
    "category": "Memory Optimized",
    "gpuNum": 0,
    "memoryGiB": 64,
    "name": "ml.r5.2xlarge",
    "vcpuNum": 8
   },
   {
    "_defaultOrder": 41,
    "_isFastLaunch": false,
    "category": "Memory Optimized",
    "gpuNum": 0,
    "memoryGiB": 128,
    "name": "ml.r5.4xlarge",
    "vcpuNum": 16
   },
   {
    "_defaultOrder": 42,
    "_isFastLaunch": false,
    "category": "Memory Optimized",
    "gpuNum": 0,
    "memoryGiB": 256,
    "name": "ml.r5.8xlarge",
    "vcpuNum": 32
   },
   {
    "_defaultOrder": 43,
    "_isFastLaunch": false,
    "category": "Memory Optimized",
    "gpuNum": 0,
    "memoryGiB": 384,
    "name": "ml.r5.12xlarge",
    "vcpuNum": 48
   },
   {
    "_defaultOrder": 44,
    "_isFastLaunch": false,
    "category": "Memory Optimized",
    "gpuNum": 0,
    "memoryGiB": 512,
    "name": "ml.r5.16xlarge",
    "vcpuNum": 64
   },
   {
    "_defaultOrder": 45,
    "_isFastLaunch": false,
    "category": "Memory Optimized",
    "gpuNum": 0,
    "memoryGiB": 768,
    "name": "ml.r5.24xlarge",
    "vcpuNum": 96
   },
   {
    "_defaultOrder": 46,
    "_isFastLaunch": false,
    "category": "Accelerated computing",
    "gpuNum": 1,
    "memoryGiB": 16,
    "name": "ml.g5.xlarge",
    "vcpuNum": 4
   },
   {
    "_defaultOrder": 47,
    "_isFastLaunch": false,
    "category": "Accelerated computing",
    "gpuNum": 1,
    "memoryGiB": 32,
    "name": "ml.g5.2xlarge",
    "vcpuNum": 8
   },
   {
    "_defaultOrder": 48,
    "_isFastLaunch": false,
    "category": "Accelerated computing",
    "gpuNum": 1,
    "memoryGiB": 64,
    "name": "ml.g5.4xlarge",
    "vcpuNum": 16
   },
   {
    "_defaultOrder": 49,
    "_isFastLaunch": false,
    "category": "Accelerated computing",
    "gpuNum": 1,
    "memoryGiB": 128,
    "name": "ml.g5.8xlarge",
    "vcpuNum": 32
   },
   {
    "_defaultOrder": 50,
    "_isFastLaunch": false,
    "category": "Accelerated computing",
    "gpuNum": 1,
    "memoryGiB": 256,
    "name": "ml.g5.16xlarge",
    "vcpuNum": 64
   },
   {
    "_defaultOrder": 51,
    "_isFastLaunch": false,
    "category": "Accelerated computing",
    "gpuNum": 4,
    "memoryGiB": 192,
    "name": "ml.g5.12xlarge",
    "vcpuNum": 48
   },
   {
    "_defaultOrder": 52,
    "_isFastLaunch": false,
    "category": "Accelerated computing",
    "gpuNum": 4,
    "memoryGiB": 384,
    "name": "ml.g5.24xlarge",
    "vcpuNum": 96
   },
   {
    "_defaultOrder": 53,
    "_isFastLaunch": false,
    "category": "Accelerated computing",
    "gpuNum": 8,
    "memoryGiB": 768,
    "name": "ml.g5.48xlarge",
    "vcpuNum": 192
   }
  ],
  "instance_type": "ml.t3.medium",
  "kernelspec": {
   "display_name": "Python 3 (Data Science)",
   "language": "python",
   "name": "python3__SAGEMAKER_INTERNAL__arn:aws:sagemaker:eu-west-1:470317259841:image/datascience-1.0"
  },
  "language_info": {
   "codemirror_mode": {
    "name": "ipython",
    "version": 3
   },
   "file_extension": ".py",
   "mimetype": "text/x-python",
   "name": "python",
   "nbconvert_exporter": "python",
   "pygments_lexer": "ipython3",
   "version": "3.7.10"
  }
 },
 "nbformat": 4,
 "nbformat_minor": 5
}
